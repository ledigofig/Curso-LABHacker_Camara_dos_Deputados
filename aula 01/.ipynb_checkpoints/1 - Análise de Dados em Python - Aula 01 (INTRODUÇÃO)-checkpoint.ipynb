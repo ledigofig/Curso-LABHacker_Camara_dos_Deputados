{
 "cells": [
  {
   "cell_type": "code",
   "execution_count": 1,
   "metadata": {},
   "outputs": [
    {
     "data": {
      "text/plain": [
       "15"
      ]
     },
     "execution_count": 1,
     "metadata": {},
     "output_type": "execute_result"
    }
   ],
   "source": [
    "10+5"
   ]
  },
  {
   "cell_type": "code",
   "execution_count": 2,
   "metadata": {},
   "outputs": [
    {
     "data": {
      "text/plain": [
       "25"
      ]
     },
     "execution_count": 2,
     "metadata": {},
     "output_type": "execute_result"
    }
   ],
   "source": [
    "x = 20\n",
    "y = 5 \n",
    "\n",
    "x+y"
   ]
  },
  {
   "cell_type": "code",
   "execution_count": 3,
   "metadata": {},
   "outputs": [
    {
     "name": "stdout",
     "output_type": "stream",
     "text": [
      "Leandro Diniz\n"
     ]
    }
   ],
   "source": [
    "nome = 'Leandro Diniz'\n",
    "\n",
    "print(nome)"
   ]
  },
  {
   "cell_type": "code",
   "execution_count": 4,
   "metadata": {},
   "outputs": [
    {
     "data": {
      "text/plain": [
       "15"
      ]
     },
     "execution_count": 4,
     "metadata": {},
     "output_type": "execute_result"
    }
   ],
   "source": [
    "x = 25 \n",
    "y = 10\n",
    "\n",
    "x - y"
   ]
  },
  {
   "cell_type": "code",
   "execution_count": 5,
   "metadata": {},
   "outputs": [
    {
     "name": "stdout",
     "output_type": "stream",
     "text": [
      "25\n",
      "Texto\n"
     ]
    }
   ],
   "source": [
    "print (x)\n",
    "\n",
    "x = 'Texto'\n",
    "\n",
    "print (x)\n"
   ]
  },
  {
   "cell_type": "markdown",
   "metadata": {},
   "source": [
    "------\n",
    "#### Instrunçoes \n",
    "* entrar no site do dados.gov.br\n",
    "* escrever na pesquisa dados do pronatec\n",
    "* Entrar em  PRONATEC - Rede Federal de EPCT\n",
    "* Entrar em Unidades da Rede Federal de EPCT\\n\n",
    "Obs ele pede para baixar o arquivo preferi colacar a url"
   ]
  },
  {
   "cell_type": "code",
   "execution_count": 6,
   "metadata": {},
   "outputs": [],
   "source": [
    "url_Unidades_Rede_Federal_de_EPCT = 'http://dadosabertos.mec.gov.br/images/conteudo/pronatec/Unidades_da_Rede_Federal_de_EPCT.csv'"
   ]
  },
  {
   "cell_type": "code",
   "execution_count": 15,
   "metadata": {},
   "outputs": [],
   "source": [
    "url_EPCT_aula = 'https://raw.githubusercontent.com/rodolfoghi/curso-labhacker-analise-dados-com-python/master/PDA_UNIDADES_RF_EPCT_CSV.csv'"
   ]
  },
  {
   "cell_type": "code",
   "execution_count": 16,
   "metadata": {},
   "outputs": [],
   "source": [
    "#importando bibliotecas\n",
    "#por convenção nomea-se o pandas como pd\n",
    "import pandas as pd"
   ]
  },
  {
   "cell_type": "code",
   "execution_count": 23,
   "metadata": {},
   "outputs": [
    {
     "data": {
      "text/html": [
       "<div>\n",
       "<style scoped>\n",
       "    .dataframe tbody tr th:only-of-type {\n",
       "        vertical-align: middle;\n",
       "    }\n",
       "\n",
       "    .dataframe tbody tr th {\n",
       "        vertical-align: top;\n",
       "    }\n",
       "\n",
       "    .dataframe thead th {\n",
       "        text-align: right;\n",
       "    }\n",
       "</style>\n",
       "<table border=\"1\" class=\"dataframe\">\n",
       "  <thead>\n",
       "    <tr style=\"text-align: right;\">\n",
       "      <th></th>\n",
       "      <th>CODIGO_UNIDADE</th>\n",
       "      <th>NOME_UNIDADE</th>\n",
       "      <th>DT_AUTORIZA_FUNCIONA_UNID</th>\n",
       "      <th>NOME_REGIAO_UNIDADE</th>\n",
       "      <th>SIGLA_UF_UNIDADE</th>\n",
       "      <th>NOME_MUNICIPIO_UNIDADE</th>\n",
       "      <th>NOME_MESORREGIAO_UNIDADE</th>\n",
       "      <th>NOME_MICRORREGIAO_UNIDADE</th>\n",
       "    </tr>\n",
       "  </thead>\n",
       "  <tbody>\n",
       "    <tr>\n",
       "      <th>0</th>\n",
       "      <td>2879</td>\n",
       "      <td>INSTITUTO FEDERAL DA BAHIA - CAMPUS EUNÁPOLIS</td>\n",
       "      <td>07-01-2009</td>\n",
       "      <td>Nordeste</td>\n",
       "      <td>BA</td>\n",
       "      <td>Eunápolis</td>\n",
       "      <td>Sul Baiano</td>\n",
       "      <td>Porto Seguro</td>\n",
       "    </tr>\n",
       "    <tr>\n",
       "      <th>1</th>\n",
       "      <td>2948</td>\n",
       "      <td>INSTITUTO FEDERAL BAIANO - CAMPUS ITAPETINGA</td>\n",
       "      <td>07-01-2009</td>\n",
       "      <td>Nordeste</td>\n",
       "      <td>BA</td>\n",
       "      <td>Itapetinga</td>\n",
       "      <td>Centro Sul Baiano</td>\n",
       "      <td>Itapetinga</td>\n",
       "    </tr>\n",
       "    <tr>\n",
       "      <th>2</th>\n",
       "      <td>14328</td>\n",
       "      <td>INSTITUTO FEDERAL DO ACRE - CAMPUS SENA MADUREIRA</td>\n",
       "      <td>30-12-2008</td>\n",
       "      <td>Norte</td>\n",
       "      <td>AC</td>\n",
       "      <td>Sena Madureira</td>\n",
       "      <td>Vale do Acre</td>\n",
       "      <td>Sena Madureira</td>\n",
       "    </tr>\n",
       "    <tr>\n",
       "      <th>3</th>\n",
       "      <td>14547</td>\n",
       "      <td>INSTITUTO FEDERAL DE ALAGOAS - CAMPUS ARAPIRACA</td>\n",
       "      <td>06-07-2010</td>\n",
       "      <td>Nordeste</td>\n",
       "      <td>AL</td>\n",
       "      <td>Arapiraca</td>\n",
       "      <td>Agreste Alagoano</td>\n",
       "      <td>Arapiraca</td>\n",
       "    </tr>\n",
       "    <tr>\n",
       "      <th>4</th>\n",
       "      <td>32010</td>\n",
       "      <td>INSTITUTO FEDERAL DE ALAGOAS - CAMPUS CORURIPE</td>\n",
       "      <td>22-01-2014</td>\n",
       "      <td>Nordeste</td>\n",
       "      <td>AL</td>\n",
       "      <td>Coruripe</td>\n",
       "      <td>Leste Alagoano</td>\n",
       "      <td>São Miguel dos Campos</td>\n",
       "    </tr>\n",
       "  </tbody>\n",
       "</table>\n",
       "</div>"
      ],
      "text/plain": [
       "   CODIGO_UNIDADE                                       NOME_UNIDADE  \\\n",
       "0            2879      INSTITUTO FEDERAL DA BAHIA - CAMPUS EUNÁPOLIS   \n",
       "1            2948       INSTITUTO FEDERAL BAIANO - CAMPUS ITAPETINGA   \n",
       "2           14328  INSTITUTO FEDERAL DO ACRE - CAMPUS SENA MADUREIRA   \n",
       "3           14547    INSTITUTO FEDERAL DE ALAGOAS - CAMPUS ARAPIRACA   \n",
       "4           32010     INSTITUTO FEDERAL DE ALAGOAS - CAMPUS CORURIPE   \n",
       "\n",
       "  DT_AUTORIZA_FUNCIONA_UNID NOME_REGIAO_UNIDADE SIGLA_UF_UNIDADE  \\\n",
       "0                07-01-2009            Nordeste               BA   \n",
       "1                07-01-2009            Nordeste               BA   \n",
       "2                30-12-2008               Norte               AC   \n",
       "3                06-07-2010            Nordeste               AL   \n",
       "4                22-01-2014            Nordeste               AL   \n",
       "\n",
       "  NOME_MUNICIPIO_UNIDADE NOME_MESORREGIAO_UNIDADE NOME_MICRORREGIAO_UNIDADE  \n",
       "0              Eunápolis               Sul Baiano              Porto Seguro  \n",
       "1             Itapetinga        Centro Sul Baiano                Itapetinga  \n",
       "2         Sena Madureira             Vale do Acre            Sena Madureira  \n",
       "3              Arapiraca         Agreste Alagoano                 Arapiraca  \n",
       "4               Coruripe           Leste Alagoano     São Miguel dos Campos  "
      ]
     },
     "execution_count": 23,
     "metadata": {},
     "output_type": "execute_result"
    }
   ],
   "source": [
    "#carregando dados do csv que vem por url\n",
    "# Pandas vai converter o arquivo  em DataFrame\n",
    "# Por convenção DataFrame de df\n",
    "# separador é sep\n",
    "# codificação cp 1252 é padrão para arquivo que erm excel\n",
    "\n",
    "df = pd.read_csv(url_EPCT_aula, sep=\";\", encoding='cp1252')\n",
    "\n",
    "#mostrando as 5 primeiras linhas\n",
    "df.head()"
   ]
  },
  {
   "cell_type": "code",
   "execution_count": 24,
   "metadata": {},
   "outputs": [
    {
     "data": {
      "text/html": [
       "<div>\n",
       "<style scoped>\n",
       "    .dataframe tbody tr th:only-of-type {\n",
       "        vertical-align: middle;\n",
       "    }\n",
       "\n",
       "    .dataframe tbody tr th {\n",
       "        vertical-align: top;\n",
       "    }\n",
       "\n",
       "    .dataframe thead th {\n",
       "        text-align: right;\n",
       "    }\n",
       "</style>\n",
       "<table border=\"1\" class=\"dataframe\">\n",
       "  <thead>\n",
       "    <tr style=\"text-align: right;\">\n",
       "      <th></th>\n",
       "      <th>CODIGO_UNIDADE</th>\n",
       "      <th>NOME_UNIDADE</th>\n",
       "      <th>DT_AUTORIZA_FUNCIONA_UNID</th>\n",
       "      <th>NOME_REGIAO_UNIDADE</th>\n",
       "      <th>SIGLA_UF_UNIDADE</th>\n",
       "      <th>NOME_MUNICIPIO_UNIDADE</th>\n",
       "      <th>NOME_MESORREGIAO_UNIDADE</th>\n",
       "      <th>NOME_MICRORREGIAO_UNIDADE</th>\n",
       "    </tr>\n",
       "  </thead>\n",
       "  <tbody>\n",
       "    <tr>\n",
       "      <th>613</th>\n",
       "      <td>32008</td>\n",
       "      <td>INSTITUTO FEDERAL CATARINENSE CAMPUS AVANÇADO ...</td>\n",
       "      <td>22-01-2014</td>\n",
       "      <td>Sul</td>\n",
       "      <td>SC</td>\n",
       "      <td>Sombrio</td>\n",
       "      <td>Sul Catarinense</td>\n",
       "      <td>Araranguá</td>\n",
       "    </tr>\n",
       "    <tr>\n",
       "      <th>614</th>\n",
       "      <td>13699</td>\n",
       "      <td>INSTITUTO FEDERAL CATARINENSE - CAMPUS VIDEIRA</td>\n",
       "      <td>06-01-2010</td>\n",
       "      <td>Sul</td>\n",
       "      <td>SC</td>\n",
       "      <td>Videira</td>\n",
       "      <td>Oeste Catarinense</td>\n",
       "      <td>Joaçaba</td>\n",
       "    </tr>\n",
       "    <tr>\n",
       "      <th>615</th>\n",
       "      <td>14357</td>\n",
       "      <td>INSTITUTO FEDERAL DE SÃO PAULO - CAMPUS PRESID...</td>\n",
       "      <td>03-12-2010</td>\n",
       "      <td>Sudeste</td>\n",
       "      <td>SP</td>\n",
       "      <td>Presidente Epitácio</td>\n",
       "      <td>Presidente Prudente</td>\n",
       "      <td>Presidente Prudente</td>\n",
       "    </tr>\n",
       "    <tr>\n",
       "      <th>616</th>\n",
       "      <td>14037</td>\n",
       "      <td>INSTITUTO FEDERAL DE SÃO PAULO - CAMPUS SUZANO</td>\n",
       "      <td>30-12-2008</td>\n",
       "      <td>Sudeste</td>\n",
       "      <td>SP</td>\n",
       "      <td>Suzano</td>\n",
       "      <td>Metropolitana de São Paulo</td>\n",
       "      <td>Mogi das Cruzes</td>\n",
       "    </tr>\n",
       "    <tr>\n",
       "      <th>617</th>\n",
       "      <td>2970</td>\n",
       "      <td>INSTITUTO FEDERAL DO TOCANTINS - CAMPUS PALMAS</td>\n",
       "      <td>06-01-2009</td>\n",
       "      <td>Norte</td>\n",
       "      <td>TO</td>\n",
       "      <td>Palmas</td>\n",
       "      <td>Oriental do Tocantins</td>\n",
       "      <td>Porto Nacional</td>\n",
       "    </tr>\n",
       "  </tbody>\n",
       "</table>\n",
       "</div>"
      ],
      "text/plain": [
       "     CODIGO_UNIDADE                                       NOME_UNIDADE  \\\n",
       "613           32008  INSTITUTO FEDERAL CATARINENSE CAMPUS AVANÇADO ...   \n",
       "614           13699     INSTITUTO FEDERAL CATARINENSE - CAMPUS VIDEIRA   \n",
       "615           14357  INSTITUTO FEDERAL DE SÃO PAULO - CAMPUS PRESID...   \n",
       "616           14037     INSTITUTO FEDERAL DE SÃO PAULO - CAMPUS SUZANO   \n",
       "617            2970     INSTITUTO FEDERAL DO TOCANTINS - CAMPUS PALMAS   \n",
       "\n",
       "    DT_AUTORIZA_FUNCIONA_UNID NOME_REGIAO_UNIDADE SIGLA_UF_UNIDADE  \\\n",
       "613                22-01-2014                 Sul               SC   \n",
       "614                06-01-2010                 Sul               SC   \n",
       "615                03-12-2010             Sudeste               SP   \n",
       "616                30-12-2008             Sudeste               SP   \n",
       "617                06-01-2009               Norte               TO   \n",
       "\n",
       "    NOME_MUNICIPIO_UNIDADE    NOME_MESORREGIAO_UNIDADE  \\\n",
       "613                Sombrio             Sul Catarinense   \n",
       "614                Videira           Oeste Catarinense   \n",
       "615    Presidente Epitácio         Presidente Prudente   \n",
       "616                 Suzano  Metropolitana de São Paulo   \n",
       "617                 Palmas       Oriental do Tocantins   \n",
       "\n",
       "    NOME_MICRORREGIAO_UNIDADE  \n",
       "613                 Araranguá  \n",
       "614                   Joaçaba  \n",
       "615       Presidente Prudente  \n",
       "616           Mogi das Cruzes  \n",
       "617            Porto Nacional  "
      ]
     },
     "execution_count": 24,
     "metadata": {},
     "output_type": "execute_result"
    }
   ],
   "source": [
    "#mostrando as 5 ultimas linhas do dataframe\n",
    "df.tail()"
   ]
  },
  {
   "cell_type": "markdown",
   "metadata": {},
   "source": [
    "-------\n",
    "Inserido por min"
   ]
  },
  {
   "cell_type": "code",
   "execution_count": 27,
   "metadata": {},
   "outputs": [
    {
     "data": {
      "text/html": [
       "<div>\n",
       "<style scoped>\n",
       "    .dataframe tbody tr th:only-of-type {\n",
       "        vertical-align: middle;\n",
       "    }\n",
       "\n",
       "    .dataframe tbody tr th {\n",
       "        vertical-align: top;\n",
       "    }\n",
       "\n",
       "    .dataframe thead th {\n",
       "        text-align: right;\n",
       "    }\n",
       "</style>\n",
       "<table border=\"1\" class=\"dataframe\">\n",
       "  <thead>\n",
       "    <tr style=\"text-align: right;\">\n",
       "      <th></th>\n",
       "      <th>CODIGO_UNIDADE</th>\n",
       "      <th>NOME_UNIDADE</th>\n",
       "      <th>DT_AUTORIZA_FUNCIONA_UNID</th>\n",
       "      <th>NOME_REGIAO_UNIDADE</th>\n",
       "      <th>SIGLA_UF_UNIDADE</th>\n",
       "      <th>NOME_MUNICIPIO_UNIDADE</th>\n",
       "      <th>NOME_MESORREGIAO_UNIDADE</th>\n",
       "      <th>NOME_MICRORREGIAO_UNIDADE</th>\n",
       "    </tr>\n",
       "  </thead>\n",
       "  <tbody>\n",
       "    <tr>\n",
       "      <th>37</th>\n",
       "      <td>20246</td>\n",
       "      <td>INSTITUTO FEDERAL DE MATO GROSSO - CAMPUS BARR...</td>\n",
       "      <td>07-01-2009</td>\n",
       "      <td>Centro-Oeste</td>\n",
       "      <td>MT</td>\n",
       "      <td>Barra do Garças</td>\n",
       "      <td>Nordeste Mato-grossense</td>\n",
       "      <td>Médio Araguaia</td>\n",
       "    </tr>\n",
       "    <tr>\n",
       "      <th>105</th>\n",
       "      <td>2968</td>\n",
       "      <td>INSTITUTO FEDERAL DE MATO GROSSO - CAMPUS CÁCERES</td>\n",
       "      <td>07-01-2009</td>\n",
       "      <td>Centro-Oeste</td>\n",
       "      <td>MT</td>\n",
       "      <td>Cáceres</td>\n",
       "      <td>Centro-Sul Mato-grossense</td>\n",
       "      <td>Alto Pantanal</td>\n",
       "    </tr>\n",
       "    <tr>\n",
       "      <th>106</th>\n",
       "      <td>2966</td>\n",
       "      <td>INSTITUTO FEDERAL DE MATO GROSSO - CAMPUS CUIABÁ</td>\n",
       "      <td>07-01-2009</td>\n",
       "      <td>Centro-Oeste</td>\n",
       "      <td>MT</td>\n",
       "      <td>Cuiabá</td>\n",
       "      <td>Centro-Sul Mato-grossense</td>\n",
       "      <td>Cuiabá</td>\n",
       "    </tr>\n",
       "    <tr>\n",
       "      <th>107</th>\n",
       "      <td>31983</td>\n",
       "      <td>INSTITUTO FEDERAL DE MATO GROSSO - CAMPUS AVAN...</td>\n",
       "      <td>22-01-2014</td>\n",
       "      <td>Centro-Oeste</td>\n",
       "      <td>MT</td>\n",
       "      <td>Tangará da Serra</td>\n",
       "      <td>Sudoeste Mato-grossense</td>\n",
       "      <td>Tangará da Serra</td>\n",
       "    </tr>\n",
       "    <tr>\n",
       "      <th>194</th>\n",
       "      <td>13511</td>\n",
       "      <td>INSTITUTO FEDERAL DE MATO GROSSO - CAMPUS CONF...</td>\n",
       "      <td>07-01-2009</td>\n",
       "      <td>Centro-Oeste</td>\n",
       "      <td>MT</td>\n",
       "      <td>Confresa</td>\n",
       "      <td>Nordeste Mato-grossense</td>\n",
       "      <td>Norte Araguaia</td>\n",
       "    </tr>\n",
       "    <tr>\n",
       "      <th>265</th>\n",
       "      <td>31984</td>\n",
       "      <td>INSTITUTO FEDERAL DE MATO GROSSO - CAMPUS ALTA...</td>\n",
       "      <td>22-01-2014</td>\n",
       "      <td>Centro-Oeste</td>\n",
       "      <td>MT</td>\n",
       "      <td>Alta Floresta</td>\n",
       "      <td>Norte Mato-grossense</td>\n",
       "      <td>Alta Floresta</td>\n",
       "    </tr>\n",
       "    <tr>\n",
       "      <th>266</th>\n",
       "      <td>44307</td>\n",
       "      <td>INSTITUTO FEDERAL DE MATO GROSSO - CAMPUS AVAN...</td>\n",
       "      <td>10-05-2016</td>\n",
       "      <td>Centro-Oeste</td>\n",
       "      <td>MT</td>\n",
       "      <td>Guarantã do Norte</td>\n",
       "      <td>Norte Mato-grossense</td>\n",
       "      <td>Colíder</td>\n",
       "    </tr>\n",
       "    <tr>\n",
       "      <th>267</th>\n",
       "      <td>13512</td>\n",
       "      <td>INSTITUTO FEDERAL DE MATO GROSSO - CAMPUS JUÍNA</td>\n",
       "      <td>07-01-2009</td>\n",
       "      <td>Centro-Oeste</td>\n",
       "      <td>MT</td>\n",
       "      <td>Juína</td>\n",
       "      <td>Norte Mato-grossense</td>\n",
       "      <td>Aripuanã</td>\n",
       "    </tr>\n",
       "    <tr>\n",
       "      <th>268</th>\n",
       "      <td>3485</td>\n",
       "      <td>INSTITUTO FEDERAL DE MATO GROSSO - CAMPUS PONT...</td>\n",
       "      <td>07-01-2009</td>\n",
       "      <td>Centro-Oeste</td>\n",
       "      <td>MT</td>\n",
       "      <td>Pontes e Lacerda</td>\n",
       "      <td>Sudoeste Mato-grossense</td>\n",
       "      <td>Alto Guaporé</td>\n",
       "    </tr>\n",
       "    <tr>\n",
       "      <th>269</th>\n",
       "      <td>2969</td>\n",
       "      <td>INSTITUTO FEDERAL DE MATO GROSSO - CAMPUS SÃO ...</td>\n",
       "      <td>07-01-2009</td>\n",
       "      <td>Centro-Oeste</td>\n",
       "      <td>MT</td>\n",
       "      <td>Santo Antônio do Leverger</td>\n",
       "      <td>Centro-Sul Mato-grossense</td>\n",
       "      <td>Cuiabá</td>\n",
       "    </tr>\n",
       "    <tr>\n",
       "      <th>338</th>\n",
       "      <td>2967</td>\n",
       "      <td>INSTITUTO FEDERAL DE MATO GROSSO - CAMPUS CUIA...</td>\n",
       "      <td>07-01-2009</td>\n",
       "      <td>Centro-Oeste</td>\n",
       "      <td>MT</td>\n",
       "      <td>Cuiabá</td>\n",
       "      <td>Centro-Sul Mato-grossense</td>\n",
       "      <td>Cuiabá</td>\n",
       "    </tr>\n",
       "    <tr>\n",
       "      <th>339</th>\n",
       "      <td>31982</td>\n",
       "      <td>INSTITUTO FEDERAL DE MATO GROSSO - CAMPUS AVAN...</td>\n",
       "      <td>22-01-2014</td>\n",
       "      <td>Centro-Oeste</td>\n",
       "      <td>MT</td>\n",
       "      <td>Sinop</td>\n",
       "      <td>Norte Mato-grossense</td>\n",
       "      <td>Sinop</td>\n",
       "    </tr>\n",
       "    <tr>\n",
       "      <th>400</th>\n",
       "      <td>44306</td>\n",
       "      <td>INSTITUTO FEDERAL DE MATO GROSSO - CAMPUS AVAN...</td>\n",
       "      <td>09-05-2016</td>\n",
       "      <td>Centro-Oeste</td>\n",
       "      <td>MT</td>\n",
       "      <td>Lucas do Rio Verde</td>\n",
       "      <td>Norte Mato-grossense</td>\n",
       "      <td>Alto Teles Pires</td>\n",
       "    </tr>\n",
       "    <tr>\n",
       "      <th>401</th>\n",
       "      <td>20148</td>\n",
       "      <td>INSTITUTO FEDERAL DE MATO GROSSO - CAMPUS ROND...</td>\n",
       "      <td>07-01-2009</td>\n",
       "      <td>Centro-Oeste</td>\n",
       "      <td>MT</td>\n",
       "      <td>Rondonópolis</td>\n",
       "      <td>Sudeste Mato-grossense</td>\n",
       "      <td>Rondonópolis</td>\n",
       "    </tr>\n",
       "    <tr>\n",
       "      <th>402</th>\n",
       "      <td>20454</td>\n",
       "      <td>INSTITUTO FEDERAL DE MATO GROSSO - CAMPUS SORRISO</td>\n",
       "      <td>29-12-2008</td>\n",
       "      <td>Centro-Oeste</td>\n",
       "      <td>MT</td>\n",
       "      <td>Sorriso</td>\n",
       "      <td>Norte Mato-grossense</td>\n",
       "      <td>Alto Teles Pires</td>\n",
       "    </tr>\n",
       "    <tr>\n",
       "      <th>403</th>\n",
       "      <td>42681</td>\n",
       "      <td>INSTITUTO FEDERAL DE MATO GROSSO - CAMPUS VÁRZ...</td>\n",
       "      <td>07-10-2013</td>\n",
       "      <td>Centro-Oeste</td>\n",
       "      <td>MT</td>\n",
       "      <td>Várzea Grande</td>\n",
       "      <td>Centro-Sul Mato-grossense</td>\n",
       "      <td>Cuiabá</td>\n",
       "    </tr>\n",
       "    <tr>\n",
       "      <th>494</th>\n",
       "      <td>31981</td>\n",
       "      <td>INSTITUTO FEDERAL DE MATO GROSSO - CAMPUS AVAN...</td>\n",
       "      <td>22-01-2014</td>\n",
       "      <td>Centro-Oeste</td>\n",
       "      <td>MT</td>\n",
       "      <td>Diamantino</td>\n",
       "      <td>Norte Mato-grossense</td>\n",
       "      <td>Parecis</td>\n",
       "    </tr>\n",
       "    <tr>\n",
       "      <th>495</th>\n",
       "      <td>31284</td>\n",
       "      <td>INSTITUTO FEDERAL DE MATO GROSSO - CAMPUS PRIM...</td>\n",
       "      <td>08-10-2013</td>\n",
       "      <td>Centro-Oeste</td>\n",
       "      <td>MT</td>\n",
       "      <td>Primavera do Leste</td>\n",
       "      <td>Sudeste Mato-grossense</td>\n",
       "      <td>Primavera do Leste</td>\n",
       "    </tr>\n",
       "    <tr>\n",
       "      <th>580</th>\n",
       "      <td>3483</td>\n",
       "      <td>INSTITUTO FEDERAL DE MATO GROSSO - CAMPUS CAMP...</td>\n",
       "      <td>07-01-2009</td>\n",
       "      <td>Centro-Oeste</td>\n",
       "      <td>MT</td>\n",
       "      <td>Campo Novo do Parecis</td>\n",
       "      <td>Norte Mato-grossense</td>\n",
       "      <td>Parecis</td>\n",
       "    </tr>\n",
       "  </tbody>\n",
       "</table>\n",
       "</div>"
      ],
      "text/plain": [
       "     CODIGO_UNIDADE                                       NOME_UNIDADE  \\\n",
       "37            20246  INSTITUTO FEDERAL DE MATO GROSSO - CAMPUS BARR...   \n",
       "105            2968  INSTITUTO FEDERAL DE MATO GROSSO - CAMPUS CÁCERES   \n",
       "106            2966   INSTITUTO FEDERAL DE MATO GROSSO - CAMPUS CUIABÁ   \n",
       "107           31983  INSTITUTO FEDERAL DE MATO GROSSO - CAMPUS AVAN...   \n",
       "194           13511  INSTITUTO FEDERAL DE MATO GROSSO - CAMPUS CONF...   \n",
       "265           31984  INSTITUTO FEDERAL DE MATO GROSSO - CAMPUS ALTA...   \n",
       "266           44307  INSTITUTO FEDERAL DE MATO GROSSO - CAMPUS AVAN...   \n",
       "267           13512    INSTITUTO FEDERAL DE MATO GROSSO - CAMPUS JUÍNA   \n",
       "268            3485  INSTITUTO FEDERAL DE MATO GROSSO - CAMPUS PONT...   \n",
       "269            2969  INSTITUTO FEDERAL DE MATO GROSSO - CAMPUS SÃO ...   \n",
       "338            2967  INSTITUTO FEDERAL DE MATO GROSSO - CAMPUS CUIA...   \n",
       "339           31982  INSTITUTO FEDERAL DE MATO GROSSO - CAMPUS AVAN...   \n",
       "400           44306  INSTITUTO FEDERAL DE MATO GROSSO - CAMPUS AVAN...   \n",
       "401           20148  INSTITUTO FEDERAL DE MATO GROSSO - CAMPUS ROND...   \n",
       "402           20454  INSTITUTO FEDERAL DE MATO GROSSO - CAMPUS SORRISO   \n",
       "403           42681  INSTITUTO FEDERAL DE MATO GROSSO - CAMPUS VÁRZ...   \n",
       "494           31981  INSTITUTO FEDERAL DE MATO GROSSO - CAMPUS AVAN...   \n",
       "495           31284  INSTITUTO FEDERAL DE MATO GROSSO - CAMPUS PRIM...   \n",
       "580            3483  INSTITUTO FEDERAL DE MATO GROSSO - CAMPUS CAMP...   \n",
       "\n",
       "    DT_AUTORIZA_FUNCIONA_UNID NOME_REGIAO_UNIDADE SIGLA_UF_UNIDADE  \\\n",
       "37                 07-01-2009        Centro-Oeste               MT   \n",
       "105                07-01-2009        Centro-Oeste               MT   \n",
       "106                07-01-2009        Centro-Oeste               MT   \n",
       "107                22-01-2014        Centro-Oeste               MT   \n",
       "194                07-01-2009        Centro-Oeste               MT   \n",
       "265                22-01-2014        Centro-Oeste               MT   \n",
       "266                10-05-2016        Centro-Oeste               MT   \n",
       "267                07-01-2009        Centro-Oeste               MT   \n",
       "268                07-01-2009        Centro-Oeste               MT   \n",
       "269                07-01-2009        Centro-Oeste               MT   \n",
       "338                07-01-2009        Centro-Oeste               MT   \n",
       "339                22-01-2014        Centro-Oeste               MT   \n",
       "400                09-05-2016        Centro-Oeste               MT   \n",
       "401                07-01-2009        Centro-Oeste               MT   \n",
       "402                29-12-2008        Centro-Oeste               MT   \n",
       "403                07-10-2013        Centro-Oeste               MT   \n",
       "494                22-01-2014        Centro-Oeste               MT   \n",
       "495                08-10-2013        Centro-Oeste               MT   \n",
       "580                07-01-2009        Centro-Oeste               MT   \n",
       "\n",
       "        NOME_MUNICIPIO_UNIDADE   NOME_MESORREGIAO_UNIDADE  \\\n",
       "37             Barra do Garças    Nordeste Mato-grossense   \n",
       "105                    Cáceres  Centro-Sul Mato-grossense   \n",
       "106                     Cuiabá  Centro-Sul Mato-grossense   \n",
       "107           Tangará da Serra    Sudoeste Mato-grossense   \n",
       "194                   Confresa    Nordeste Mato-grossense   \n",
       "265              Alta Floresta       Norte Mato-grossense   \n",
       "266          Guarantã do Norte       Norte Mato-grossense   \n",
       "267                      Juína       Norte Mato-grossense   \n",
       "268           Pontes e Lacerda    Sudoeste Mato-grossense   \n",
       "269  Santo Antônio do Leverger  Centro-Sul Mato-grossense   \n",
       "338                     Cuiabá  Centro-Sul Mato-grossense   \n",
       "339                      Sinop       Norte Mato-grossense   \n",
       "400         Lucas do Rio Verde       Norte Mato-grossense   \n",
       "401               Rondonópolis     Sudeste Mato-grossense   \n",
       "402                    Sorriso       Norte Mato-grossense   \n",
       "403              Várzea Grande  Centro-Sul Mato-grossense   \n",
       "494                 Diamantino       Norte Mato-grossense   \n",
       "495         Primavera do Leste     Sudeste Mato-grossense   \n",
       "580      Campo Novo do Parecis       Norte Mato-grossense   \n",
       "\n",
       "    NOME_MICRORREGIAO_UNIDADE  \n",
       "37             Médio Araguaia  \n",
       "105             Alto Pantanal  \n",
       "106                    Cuiabá  \n",
       "107          Tangará da Serra  \n",
       "194            Norte Araguaia  \n",
       "265             Alta Floresta  \n",
       "266                   Colíder  \n",
       "267                  Aripuanã  \n",
       "268              Alto Guaporé  \n",
       "269                    Cuiabá  \n",
       "338                    Cuiabá  \n",
       "339                     Sinop  \n",
       "400          Alto Teles Pires  \n",
       "401              Rondonópolis  \n",
       "402          Alto Teles Pires  \n",
       "403                    Cuiabá  \n",
       "494                   Parecis  \n",
       "495        Primavera do Leste  \n",
       "580                   Parecis  "
      ]
     },
     "execution_count": 27,
     "metadata": {},
     "output_type": "execute_result"
    }
   ],
   "source": [
    "# Eu decidi pesquisar as unidade de ensino no estado de Mato Grosso\n",
    "\n",
    "df.query(\"SIGLA_UF_UNIDADE == 'MT'\")"
   ]
  },
  {
   "cell_type": "code",
   "execution_count": 28,
   "metadata": {},
   "outputs": [
    {
     "data": {
      "text/plain": [
       "CODIGO_UNIDADE               618\n",
       "NOME_UNIDADE                 618\n",
       "DT_AUTORIZA_FUNCIONA_UNID    618\n",
       "NOME_REGIAO_UNIDADE          618\n",
       "SIGLA_UF_UNIDADE             618\n",
       "NOME_MUNICIPIO_UNIDADE       618\n",
       "NOME_MESORREGIAO_UNIDADE     618\n",
       "NOME_MICRORREGIAO_UNIDADE    618\n",
       "dtype: int64"
      ]
     },
     "execution_count": 28,
     "metadata": {},
     "output_type": "execute_result"
    }
   ],
   "source": [
    "#Quantas escola no arquivo\n",
    "df.count()"
   ]
  },
  {
   "cell_type": "code",
   "execution_count": 29,
   "metadata": {},
   "outputs": [
    {
     "data": {
      "text/html": [
       "<div>\n",
       "<style scoped>\n",
       "    .dataframe tbody tr th:only-of-type {\n",
       "        vertical-align: middle;\n",
       "    }\n",
       "\n",
       "    .dataframe tbody tr th {\n",
       "        vertical-align: top;\n",
       "    }\n",
       "\n",
       "    .dataframe thead th {\n",
       "        text-align: right;\n",
       "    }\n",
       "</style>\n",
       "<table border=\"1\" class=\"dataframe\">\n",
       "  <thead>\n",
       "    <tr style=\"text-align: right;\">\n",
       "      <th></th>\n",
       "      <th>CODIGO_UNIDADE</th>\n",
       "    </tr>\n",
       "  </thead>\n",
       "  <tbody>\n",
       "    <tr>\n",
       "      <th>count</th>\n",
       "      <td>618.000000</td>\n",
       "    </tr>\n",
       "    <tr>\n",
       "      <th>mean</th>\n",
       "      <td>16255.610032</td>\n",
       "    </tr>\n",
       "    <tr>\n",
       "      <th>std</th>\n",
       "      <td>12973.588737</td>\n",
       "    </tr>\n",
       "    <tr>\n",
       "      <th>min</th>\n",
       "      <td>354.000000</td>\n",
       "    </tr>\n",
       "    <tr>\n",
       "      <th>25%</th>\n",
       "      <td>2998.500000</td>\n",
       "    </tr>\n",
       "    <tr>\n",
       "      <th>50%</th>\n",
       "      <td>13840.500000</td>\n",
       "    </tr>\n",
       "    <tr>\n",
       "      <th>75%</th>\n",
       "      <td>30818.250000</td>\n",
       "    </tr>\n",
       "    <tr>\n",
       "      <th>max</th>\n",
       "      <td>44307.000000</td>\n",
       "    </tr>\n",
       "  </tbody>\n",
       "</table>\n",
       "</div>"
      ],
      "text/plain": [
       "       CODIGO_UNIDADE\n",
       "count      618.000000\n",
       "mean     16255.610032\n",
       "std      12973.588737\n",
       "min        354.000000\n",
       "25%       2998.500000\n",
       "50%      13840.500000\n",
       "75%      30818.250000\n",
       "max      44307.000000"
      ]
     },
     "execution_count": 29,
     "metadata": {},
     "output_type": "execute_result"
    }
   ],
   "source": [
    "#bom para descrever os valores numericos\n",
    "df.describe()"
   ]
  },
  {
   "cell_type": "code",
   "execution_count": 30,
   "metadata": {},
   "outputs": [
    {
     "data": {
      "text/plain": [
       "CODIGO_UNIDADE                int64\n",
       "NOME_UNIDADE                 object\n",
       "DT_AUTORIZA_FUNCIONA_UNID    object\n",
       "NOME_REGIAO_UNIDADE          object\n",
       "SIGLA_UF_UNIDADE             object\n",
       "NOME_MUNICIPIO_UNIDADE       object\n",
       "NOME_MESORREGIAO_UNIDADE     object\n",
       "NOME_MICRORREGIAO_UNIDADE    object\n",
       "dtype: object"
      ]
     },
     "execution_count": 30,
     "metadata": {},
     "output_type": "execute_result"
    }
   ],
   "source": [
    "# Mostra qual é tipo de dado de colunas \n",
    "df.dtypes"
   ]
  },
  {
   "cell_type": "code",
   "execution_count": 32,
   "metadata": {},
   "outputs": [
    {
     "data": {
      "text/plain": [
       "Nordeste        202\n",
       "Sudeste         163\n",
       "Sul             116\n",
       "Norte            70\n",
       "Centro-Oeste     67\n",
       "Name: NOME_REGIAO_UNIDADE, dtype: int64"
      ]
     },
     "execution_count": 32,
     "metadata": {},
     "output_type": "execute_result"
    }
   ],
   "source": [
    "#quantas escolas existem em cada região do Brasil\n",
    "# Seleciona o item \n",
    "# Conta \n",
    "df['NOME_REGIAO_UNIDADE'].value_counts()"
   ]
  },
  {
   "cell_type": "code",
   "execution_count": 33,
   "metadata": {},
   "outputs": [
    {
     "data": {
      "text/plain": [
       "MG    67\n",
       "RS    45\n",
       "RJ    39\n",
       "SC    36\n",
       "SP    35\n",
       "PR    35\n",
       "BA    34\n",
       "CE    27\n",
       "MA    27\n",
       "GO    26\n",
       "RN    23\n",
       "PI    23\n",
       "PE    23\n",
       "ES    22\n",
       "PB    21\n",
       "PA    20\n",
       "MT    19\n",
       "AL    16\n",
       "AM    15\n",
       "TO    11\n",
       "MS    11\n",
       "DF    11\n",
       "SE     8\n",
       "RO     8\n",
       "RR     6\n",
       "AC     6\n",
       "AP     4\n",
       "Name: SIGLA_UF_UNIDADE, dtype: int64"
      ]
     },
     "execution_count": 33,
     "metadata": {},
     "output_type": "execute_result"
    }
   ],
   "source": [
    "# Contando afgora pela unidade da federação\n",
    "df['SIGLA_UF_UNIDADE'].value_counts()"
   ]
  },
  {
   "cell_type": "code",
   "execution_count": 34,
   "metadata": {},
   "outputs": [
    {
     "data": {
      "text/plain": [
       "<matplotlib.axes._subplots.AxesSubplot at 0x7ff5f912e4d0>"
      ]
     },
     "execution_count": 34,
     "metadata": {},
     "output_type": "execute_result"
    },
    {
     "data": {
      "image/png": "[encoded data removed]",
      "text/plain": [
       "<Figure size 432x288 with 1 Axes>"
      ]
     },
     "metadata": {
      "needs_background": "light"
     },
     "output_type": "display_data"
    }
   ],
   "source": [
    "# Mostrando os dados em um grafico\n",
    "\n",
    "# Precisamos informa que queremos visualizar o grafico dentro do proprio nootebook\n",
    "%matplotlib inline\n",
    "\n",
    "#agora pega as escplas por UF e mostra em gráfico de barras\n",
    "df['SIGLA_UF_UNIDADE'].value_counts().plot.bar()"
   ]
  },
  {
   "cell_type": "code",
   "execution_count": null,
   "metadata": {},
   "outputs": [],
   "source": []
  }
 ],
 "metadata": {
  "kernelspec": {
   "display_name": "Python 3",
   "language": "python",
   "name": "python3"
  },
  "language_info": {
   "codemirror_mode": {
    "name": "ipython",
    "version": 3
   },
   "file_extension": ".py",
   "mimetype": "text/x-python",
   "name": "python",
   "nbconvert_exporter": "python",
   "pygments_lexer": "ipython3",
   "version": "3.7.6"
  }
 },
 "nbformat": 4,
 "nbformat_minor": 4
}
