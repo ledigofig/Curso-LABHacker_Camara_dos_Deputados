{
 "cells": [
  {
   "cell_type": "code",
   "execution_count": 2,
   "metadata": {},
   "outputs": [],
   "source": [
    "#importando pandas\n",
    "import pandas as pd\n",
    "\n",
    "# Informar ao matplotlib sobre grafico inline\n",
    "%matplotlib inline\n"
   ]
  },
  {
   "cell_type": "code",
   "execution_count": 3,
   "metadata": {},
   "outputs": [],
   "source": [
    "url_cirugia_df = 'https://raw.githubusercontent.com/rodolfoghi/curso-labhacker-analise-dados-com-python/master/sih-janeiro-2017-cirurgias-eletiva-e-emergencia.csv'"
   ]
  },
  {
   "cell_type": "markdown",
   "metadata": {},
   "source": [
    "###### vamos importa apensa algumas colunas do arquivo\n",
    "* - 3 Hospital\n",
    "* - 6 Municipio\n",
    "* - 7 Complexidade\n",
    "* - 12 Carater atendimento\n",
    "* - 14 Sub grupo procedimento \n",
    "*"
   ]
  },
  {
   "cell_type": "code",
   "execution_count": 4,
   "metadata": {},
   "outputs": [
    {
     "data": {
      "text/html": [
       "<div>\n",
       "<style scoped>\n",
       "    .dataframe tbody tr th:only-of-type {\n",
       "        vertical-align: middle;\n",
       "    }\n",
       "\n",
       "    .dataframe tbody tr th {\n",
       "        vertical-align: top;\n",
       "    }\n",
       "\n",
       "    .dataframe thead th {\n",
       "        text-align: right;\n",
       "    }\n",
       "</style>\n",
       "<table border=\"1\" class=\"dataframe\">\n",
       "  <thead>\n",
       "    <tr style=\"text-align: right;\">\n",
       "      <th></th>\n",
       "      <th>Estabelecimento cnes</th>\n",
       "      <th>Municipio do estabelecimento</th>\n",
       "      <th>Complexidade do Procedimento</th>\n",
       "      <th>Carater da internaca/ATENDIMENTO</th>\n",
       "      <th>Sub grupo procedimento realizado</th>\n",
       "      <th>Procedimento realizado</th>\n",
       "    </tr>\n",
       "  </thead>\n",
       "  <tbody>\n",
       "    <tr>\n",
       "      <th>0</th>\n",
       "      <td>6876617 HOSPITAL DA CRIANCA DE BRASILIA JOSE A...</td>\n",
       "      <td>BRASILIA, DF, BR</td>\n",
       "      <td>Média complexidade</td>\n",
       "      <td>Eletivo</td>\n",
       "      <td>Sub Grupo: 15 - Outras cirurgias</td>\n",
       "      <td>TRATAMENTO C/ CIRURGIAS MULTIPLAS</td>\n",
       "    </tr>\n",
       "    <tr>\n",
       "      <th>1</th>\n",
       "      <td>0010456 HBDF HOSPITAL DE BASE DO DISTRITO FEDERAL</td>\n",
       "      <td>BRASILIA, DF, BR</td>\n",
       "      <td>Média complexidade</td>\n",
       "      <td>Urgência</td>\n",
       "      <td>Sub Grupo: 03 - Cirurgia do sistema nervoso ce...</td>\n",
       "      <td>DERIVACAO VENTRICULAR EXTERNAR-SUBGALEAL EXTERNA</td>\n",
       "    </tr>\n",
       "    <tr>\n",
       "      <th>2</th>\n",
       "      <td>0010456 HBDF HOSPITAL DE BASE DO DISTRITO FEDERAL</td>\n",
       "      <td>BRASILIA, DF, BR</td>\n",
       "      <td>Média complexidade</td>\n",
       "      <td>Urgência</td>\n",
       "      <td>Sub Grupo: 15 - Outras cirurgias</td>\n",
       "      <td>TRATAMENTO C/ CIRURGIAS MULTIPLAS</td>\n",
       "    </tr>\n",
       "  </tbody>\n",
       "</table>\n",
       "</div>"
      ],
      "text/plain": [
       "                                Estabelecimento cnes  \\\n",
       "0  6876617 HOSPITAL DA CRIANCA DE BRASILIA JOSE A...   \n",
       "1  0010456 HBDF HOSPITAL DE BASE DO DISTRITO FEDERAL   \n",
       "2  0010456 HBDF HOSPITAL DE BASE DO DISTRITO FEDERAL   \n",
       "\n",
       "  Municipio do estabelecimento Complexidade do Procedimento  \\\n",
       "0            BRASILIA, DF, BR            Média complexidade   \n",
       "1            BRASILIA, DF, BR            Média complexidade   \n",
       "2            BRASILIA, DF, BR            Média complexidade   \n",
       "\n",
       "  Carater da internaca/ATENDIMENTO  \\\n",
       "0                          Eletivo   \n",
       "1                         Urgência   \n",
       "2                         Urgência   \n",
       "\n",
       "                    Sub grupo procedimento realizado  \\\n",
       "0                   Sub Grupo: 15 - Outras cirurgias   \n",
       "1  Sub Grupo: 03 - Cirurgia do sistema nervoso ce...   \n",
       "2                   Sub Grupo: 15 - Outras cirurgias   \n",
       "\n",
       "                             Procedimento realizado  \n",
       "0                 TRATAMENTO C/ CIRURGIAS MULTIPLAS  \n",
       "1  DERIVACAO VENTRICULAR EXTERNAR-SUBGALEAL EXTERNA  \n",
       "2                 TRATAMENTO C/ CIRURGIAS MULTIPLAS  "
      ]
     },
     "execution_count": 4,
     "metadata": {},
     "output_type": "execute_result"
    }
   ],
   "source": [
    "#usecols seleciona as colunas desejada\n",
    "df = pd.read_csv(url_cirugia_df, sep=';', encoding='cp1252', usecols=[3, 6, 7, 8, 12, 14])\n",
    "df.head(3)"
   ]
  },
  {
   "cell_type": "code",
   "execution_count": 5,
   "metadata": {},
   "outputs": [
    {
     "data": {
      "text/html": [
       "<div>\n",
       "<style scoped>\n",
       "    .dataframe tbody tr th:only-of-type {\n",
       "        vertical-align: middle;\n",
       "    }\n",
       "\n",
       "    .dataframe tbody tr th {\n",
       "        vertical-align: top;\n",
       "    }\n",
       "\n",
       "    .dataframe thead th {\n",
       "        text-align: right;\n",
       "    }\n",
       "</style>\n",
       "<table border=\"1\" class=\"dataframe\">\n",
       "  <thead>\n",
       "    <tr style=\"text-align: right;\">\n",
       "      <th></th>\n",
       "      <th>Estabelecimento cnes</th>\n",
       "      <th>Municipio do estabelecimento</th>\n",
       "      <th>Complexidade do Procedimento</th>\n",
       "      <th>Carater da internaca/ATENDIMENTO</th>\n",
       "      <th>Sub grupo procedimento realizado</th>\n",
       "      <th>Procedimento realizado</th>\n",
       "    </tr>\n",
       "  </thead>\n",
       "  <tbody>\n",
       "    <tr>\n",
       "      <th>4857</th>\n",
       "      <td>0010480 HOSPITAL REGIONAL DE CEILANDIA</td>\n",
       "      <td>CEILANDIA, DF, BR</td>\n",
       "      <td>Média complexidade</td>\n",
       "      <td>Eletivo</td>\n",
       "      <td>Sub Grupo: 09 - Cirurgia do aparelho geniturin...</td>\n",
       "      <td>VASECTOMIA</td>\n",
       "    </tr>\n",
       "    <tr>\n",
       "      <th>4858</th>\n",
       "      <td>0010480 HOSPITAL REGIONAL DE CEILANDIA</td>\n",
       "      <td>CEILANDIA, DF, BR</td>\n",
       "      <td>Média complexidade</td>\n",
       "      <td>Eletivo</td>\n",
       "      <td>Sub Grupo: 09 - Cirurgia do aparelho geniturin...</td>\n",
       "      <td>VASECTOMIA</td>\n",
       "    </tr>\n",
       "    <tr>\n",
       "      <th>4859</th>\n",
       "      <td>0010480 HOSPITAL REGIONAL DE CEILANDIA</td>\n",
       "      <td>CEILANDIA, DF, BR</td>\n",
       "      <td>Média complexidade</td>\n",
       "      <td>Urgência</td>\n",
       "      <td>Sub Grupo: 08 - Cirurgia do sistema osteomuscular</td>\n",
       "      <td>ARTROPLASTIA TOTAL PRIMÁRIA DO QUADRIL CIMENTADA</td>\n",
       "    </tr>\n",
       "    <tr>\n",
       "      <th>4860</th>\n",
       "      <td>0010472 HRG</td>\n",
       "      <td>GAMA, DF, BR</td>\n",
       "      <td>Alta complexidade</td>\n",
       "      <td>Urgência</td>\n",
       "      <td>Sub Grupo: 16 - Cirurgia em oncologia</td>\n",
       "      <td>AMPUTACAO ABDOMINO-PERINEAL DE RETO EM ONCOLOGIA</td>\n",
       "    </tr>\n",
       "    <tr>\n",
       "      <th>4861</th>\n",
       "      <td>0010480 HOSPITAL REGIONAL DE CEILANDIA</td>\n",
       "      <td>CEILANDIA, DF, BR</td>\n",
       "      <td>Média complexidade</td>\n",
       "      <td>Urgência</td>\n",
       "      <td>Sub Grupo: 07 - Cirurgia do aparelho digestivo...</td>\n",
       "      <td>LAPAROTOMIA EXPLORADORA</td>\n",
       "    </tr>\n",
       "  </tbody>\n",
       "</table>\n",
       "</div>"
      ],
      "text/plain": [
       "                        Estabelecimento cnes Municipio do estabelecimento  \\\n",
       "4857  0010480 HOSPITAL REGIONAL DE CEILANDIA           CEILANDIA, DF, BR    \n",
       "4858  0010480 HOSPITAL REGIONAL DE CEILANDIA           CEILANDIA, DF, BR    \n",
       "4859  0010480 HOSPITAL REGIONAL DE CEILANDIA           CEILANDIA, DF, BR    \n",
       "4860                             0010472 HRG                GAMA, DF, BR    \n",
       "4861  0010480 HOSPITAL REGIONAL DE CEILANDIA           CEILANDIA, DF, BR    \n",
       "\n",
       "     Complexidade do Procedimento Carater da internaca/ATENDIMENTO  \\\n",
       "4857           Média complexidade                          Eletivo   \n",
       "4858           Média complexidade                          Eletivo   \n",
       "4859           Média complexidade                         Urgência   \n",
       "4860            Alta complexidade                         Urgência   \n",
       "4861           Média complexidade                         Urgência   \n",
       "\n",
       "                       Sub grupo procedimento realizado  \\\n",
       "4857  Sub Grupo: 09 - Cirurgia do aparelho geniturin...   \n",
       "4858  Sub Grupo: 09 - Cirurgia do aparelho geniturin...   \n",
       "4859  Sub Grupo: 08 - Cirurgia do sistema osteomuscular   \n",
       "4860              Sub Grupo: 16 - Cirurgia em oncologia   \n",
       "4861  Sub Grupo: 07 - Cirurgia do aparelho digestivo...   \n",
       "\n",
       "                                Procedimento realizado  \n",
       "4857                                        VASECTOMIA  \n",
       "4858                                        VASECTOMIA  \n",
       "4859  ARTROPLASTIA TOTAL PRIMÁRIA DO QUADRIL CIMENTADA  \n",
       "4860  AMPUTACAO ABDOMINO-PERINEAL DE RETO EM ONCOLOGIA  \n",
       "4861                           LAPAROTOMIA EXPLORADORA  "
      ]
     },
     "execution_count": 5,
     "metadata": {},
     "output_type": "execute_result"
    }
   ],
   "source": [
    "df.tail()"
   ]
  },
  {
   "cell_type": "code",
   "execution_count": 6,
   "metadata": {},
   "outputs": [
    {
     "data": {
      "text/html": [
       "<div>\n",
       "<style scoped>\n",
       "    .dataframe tbody tr th:only-of-type {\n",
       "        vertical-align: middle;\n",
       "    }\n",
       "\n",
       "    .dataframe tbody tr th {\n",
       "        vertical-align: top;\n",
       "    }\n",
       "\n",
       "    .dataframe thead th {\n",
       "        text-align: right;\n",
       "    }\n",
       "</style>\n",
       "<table border=\"1\" class=\"dataframe\">\n",
       "  <thead>\n",
       "    <tr style=\"text-align: right;\">\n",
       "      <th></th>\n",
       "      <th>Hospital</th>\n",
       "      <th>Municipio</th>\n",
       "      <th>Complexidade</th>\n",
       "      <th>Carater Atendimento</th>\n",
       "      <th>Sub Grupo Procedimento</th>\n",
       "      <th>Procedimento</th>\n",
       "    </tr>\n",
       "  </thead>\n",
       "  <tbody>\n",
       "    <tr>\n",
       "      <th>0</th>\n",
       "      <td>6876617 HOSPITAL DA CRIANCA DE BRASILIA JOSE A...</td>\n",
       "      <td>BRASILIA, DF, BR</td>\n",
       "      <td>Média complexidade</td>\n",
       "      <td>Eletivo</td>\n",
       "      <td>Sub Grupo: 15 - Outras cirurgias</td>\n",
       "      <td>TRATAMENTO C/ CIRURGIAS MULTIPLAS</td>\n",
       "    </tr>\n",
       "    <tr>\n",
       "      <th>1</th>\n",
       "      <td>0010456 HBDF HOSPITAL DE BASE DO DISTRITO FEDERAL</td>\n",
       "      <td>BRASILIA, DF, BR</td>\n",
       "      <td>Média complexidade</td>\n",
       "      <td>Urgência</td>\n",
       "      <td>Sub Grupo: 03 - Cirurgia do sistema nervoso ce...</td>\n",
       "      <td>DERIVACAO VENTRICULAR EXTERNAR-SUBGALEAL EXTERNA</td>\n",
       "    </tr>\n",
       "    <tr>\n",
       "      <th>2</th>\n",
       "      <td>0010456 HBDF HOSPITAL DE BASE DO DISTRITO FEDERAL</td>\n",
       "      <td>BRASILIA, DF, BR</td>\n",
       "      <td>Média complexidade</td>\n",
       "      <td>Urgência</td>\n",
       "      <td>Sub Grupo: 15 - Outras cirurgias</td>\n",
       "      <td>TRATAMENTO C/ CIRURGIAS MULTIPLAS</td>\n",
       "    </tr>\n",
       "  </tbody>\n",
       "</table>\n",
       "</div>"
      ],
      "text/plain": [
       "                                            Hospital          Municipio  \\\n",
       "0  6876617 HOSPITAL DA CRIANCA DE BRASILIA JOSE A...  BRASILIA, DF, BR    \n",
       "1  0010456 HBDF HOSPITAL DE BASE DO DISTRITO FEDERAL  BRASILIA, DF, BR    \n",
       "2  0010456 HBDF HOSPITAL DE BASE DO DISTRITO FEDERAL  BRASILIA, DF, BR    \n",
       "\n",
       "         Complexidade Carater Atendimento  \\\n",
       "0  Média complexidade             Eletivo   \n",
       "1  Média complexidade            Urgência   \n",
       "2  Média complexidade            Urgência   \n",
       "\n",
       "                              Sub Grupo Procedimento  \\\n",
       "0                   Sub Grupo: 15 - Outras cirurgias   \n",
       "1  Sub Grupo: 03 - Cirurgia do sistema nervoso ce...   \n",
       "2                   Sub Grupo: 15 - Outras cirurgias   \n",
       "\n",
       "                                       Procedimento  \n",
       "0                 TRATAMENTO C/ CIRURGIAS MULTIPLAS  \n",
       "1  DERIVACAO VENTRICULAR EXTERNAR-SUBGALEAL EXTERNA  \n",
       "2                 TRATAMENTO C/ CIRURGIAS MULTIPLAS  "
      ]
     },
     "execution_count": 6,
     "metadata": {},
     "output_type": "execute_result"
    }
   ],
   "source": [
    "#Trocando o nome das colunas \n",
    "df.columns = ['Hospital','Municipio', 'Complexidade', 'Carater Atendimento', \n",
    "              'Sub Grupo Procedimento','Procedimento']\n",
    "\n",
    "df.head(3)"
   ]
  },
  {
   "cell_type": "code",
   "execution_count": 7,
   "metadata": {},
   "outputs": [
    {
     "data": {
      "text/html": [
       "<div>\n",
       "<style scoped>\n",
       "    .dataframe tbody tr th:only-of-type {\n",
       "        vertical-align: middle;\n",
       "    }\n",
       "\n",
       "    .dataframe tbody tr th {\n",
       "        vertical-align: top;\n",
       "    }\n",
       "\n",
       "    .dataframe thead th {\n",
       "        text-align: right;\n",
       "    }\n",
       "</style>\n",
       "<table border=\"1\" class=\"dataframe\">\n",
       "  <thead>\n",
       "    <tr style=\"text-align: right;\">\n",
       "      <th></th>\n",
       "      <th>Hospital</th>\n",
       "      <th>Municipio</th>\n",
       "      <th>Complexidade</th>\n",
       "      <th>Carater Atendimento</th>\n",
       "      <th>Sub Grupo Procedimento</th>\n",
       "      <th>Procedimento</th>\n",
       "    </tr>\n",
       "  </thead>\n",
       "  <tbody>\n",
       "    <tr>\n",
       "      <th>count</th>\n",
       "      <td>4862</td>\n",
       "      <td>4862</td>\n",
       "      <td>4862</td>\n",
       "      <td>4862</td>\n",
       "      <td>4862</td>\n",
       "      <td>4862</td>\n",
       "    </tr>\n",
       "    <tr>\n",
       "      <th>unique</th>\n",
       "      <td>16</td>\n",
       "      <td>11</td>\n",
       "      <td>2</td>\n",
       "      <td>4</td>\n",
       "      <td>16</td>\n",
       "      <td>495</td>\n",
       "    </tr>\n",
       "    <tr>\n",
       "      <th>top</th>\n",
       "      <td>0010456 HBDF HOSPITAL DE BASE DO DISTRITO FEDERAL</td>\n",
       "      <td>BRASILIA, DF, BR</td>\n",
       "      <td>Média complexidade</td>\n",
       "      <td>Urgência</td>\n",
       "      <td>Sub Grupo: 11 - Cirurgia obstétrica</td>\n",
       "      <td>PARTO CESARIANO</td>\n",
       "    </tr>\n",
       "    <tr>\n",
       "      <th>freq</th>\n",
       "      <td>735</td>\n",
       "      <td>1923</td>\n",
       "      <td>4353</td>\n",
       "      <td>3794</td>\n",
       "      <td>1539</td>\n",
       "      <td>1060</td>\n",
       "    </tr>\n",
       "  </tbody>\n",
       "</table>\n",
       "</div>"
      ],
      "text/plain": [
       "                                                 Hospital          Municipio  \\\n",
       "count                                                4862               4862   \n",
       "unique                                                 16                 11   \n",
       "top     0010456 HBDF HOSPITAL DE BASE DO DISTRITO FEDERAL  BRASILIA, DF, BR    \n",
       "freq                                                  735               1923   \n",
       "\n",
       "              Complexidade Carater Atendimento  \\\n",
       "count                 4862                4862   \n",
       "unique                   2                   4   \n",
       "top     Média complexidade            Urgência   \n",
       "freq                  4353                3794   \n",
       "\n",
       "                     Sub Grupo Procedimento     Procedimento  \n",
       "count                                  4862             4862  \n",
       "unique                                   16              495  \n",
       "top     Sub Grupo: 11 - Cirurgia obstétrica  PARTO CESARIANO  \n",
       "freq                                   1539             1060  "
      ]
     },
     "execution_count": 7,
     "metadata": {},
     "output_type": "execute_result"
    }
   ],
   "source": [
    "#descrevendo as colunas numericas\n",
    "df.describe()"
   ]
  },
  {
   "cell_type": "code",
   "execution_count": 8,
   "metadata": {},
   "outputs": [
    {
     "data": {
      "text/plain": [
       "array(['6876617 HOSPITAL DA CRIANCA DE BRASILIA JOSE ALENCAR HCB',\n",
       "       '0010456 HBDF HOSPITAL DE BASE DO DISTRITO FEDERAL',\n",
       "       '0010499 HRT HOSPITAL REGIONAL DE TAGUATINGA', '0010545 HRBZ',\n",
       "       '0010480 HOSPITAL REGIONAL DE CEILANDIA',\n",
       "       '3276678 INSTITUTO DE CARDIOLOGIA DO DISTRITO FEDERAL',\n",
       "       '0010472 HRG', '0010510 HOSPITAL UNIVERSITARIO DE BRASILIA',\n",
       "       '0010529 HRPL',\n",
       "       '0010537 HOSPITAL MATERNO INFANTIL DE BRASILIA HMIB',\n",
       "       '3055450 CBV CENTRO BRASILEIRO DA VISAO',\n",
       "       '2672197 HRSAM HOSPITAL REGIONAL DE SAMAMBAIA', '0010502 HRS',\n",
       "       '5717515 HRSM', '2645157 HRPA', '0010464 HRAN'], dtype=object)"
      ]
     },
     "execution_count": 8,
     "metadata": {},
     "output_type": "execute_result"
    }
   ],
   "source": [
    "# Listar os hospitais presentes nos dados\n",
    "df['Hospital'].unique()"
   ]
  },
  {
   "cell_type": "code",
   "execution_count": 9,
   "metadata": {},
   "outputs": [
    {
     "data": {
      "text/plain": [
       "0010456 HBDF HOSPITAL DE BASE DO DISTRITO FEDERAL           735\n",
       "0010472 HRG                                                 555\n",
       "0010480 HOSPITAL REGIONAL DE CEILANDIA                      461\n",
       "0010464 HRAN                                                432\n",
       "0010499 HRT HOSPITAL REGIONAL DE TAGUATINGA                 373\n",
       "0010510 HOSPITAL UNIVERSITARIO DE BRASILIA                  350\n",
       "2645157 HRPA                                                327\n",
       "0010537 HOSPITAL MATERNO INFANTIL DE BRASILIA HMIB          298\n",
       "5717515 HRSM                                                281\n",
       "0010529 HRPL                                                256\n",
       "0010502 HRS                                                 225\n",
       "2672197 HRSAM HOSPITAL REGIONAL DE SAMAMBAIA                195\n",
       "3276678 INSTITUTO DE CARDIOLOGIA DO DISTRITO FEDERAL        191\n",
       "0010545 HRBZ                                                 75\n",
       "6876617 HOSPITAL DA CRIANCA DE BRASILIA JOSE ALENCAR HCB     74\n",
       "3055450 CBV CENTRO BRASILEIRO DA VISAO                       34\n",
       "Name: Hospital, dtype: int64"
      ]
     },
     "execution_count": 9,
     "metadata": {},
     "output_type": "execute_result"
    }
   ],
   "source": [
    "# Quantas Cirugias realizadas em cada hospital\n",
    "df['Hospital'].value_counts()"
   ]
  },
  {
   "cell_type": "code",
   "execution_count": 10,
   "metadata": {},
   "outputs": [
    {
     "data": {
      "text/plain": [
       "Sub Grupo: 11 - Cirurgia obstétrica                                                   1539\n",
       "Sub Grupo: 07 - Cirurgia do aparelho digestivo, orgãos anexos e parede abdominal       893\n",
       "Sub Grupo: 08 - Cirurgia do sistema osteomuscular                                      651\n",
       "Sub Grupo: 09 - Cirurgia do aparelho geniturinário                                     474\n",
       "Sub Grupo: 06 - Cirurgia do aparelho circulatório                                      299\n",
       "Sub Grupo: 15 - Outras cirurgias                                                       223\n",
       "Sub Grupo: 04 - Cirurgia das vias aéreas superiores, da cabeça e do pescoço            145\n",
       "Sub Grupo: 03 - Cirurgia do sistema nervoso central e periférico                       141\n",
       "Sub Grupo: 16 - Cirurgia em oncologia                                                  110\n",
       "Sub Grupo: 05 - Cirurgia do aparelho da visão                                           98\n",
       "Sub Grupo: 12 - Cirurgia torácica                                                       92\n",
       "Sub Grupo: 01 - Pequenas cirurgias e cirurgias de pele, tecido subcutâneo e mucosa      77\n",
       "Sub Grupo: 10 - Cirurgia de mama                                                        68\n",
       "Sub Grupo: 13 - Cirurgia reparadora                                                     40\n",
       "Sub Grupo: 14 - Cirurgia oro-facial                                                      7\n",
       "Sub Grupo: 02 - Cirurgia de glândulas endócrinas                                         5\n",
       "Name: Sub Grupo Procedimento, dtype: int64"
      ]
     },
     "execution_count": 10,
     "metadata": {},
     "output_type": "execute_result"
    }
   ],
   "source": [
    "df['Sub Grupo Procedimento'].value_counts()"
   ]
  },
  {
   "cell_type": "code",
   "execution_count": 28,
   "metadata": {},
   "outputs": [
    {
     "data": {
      "text/plain": [
       "<matplotlib.axes._subplots.AxesSubplot at 0x7f4b2ff63cd0>"
      ]
     },
     "execution_count": 28,
     "metadata": {},
     "output_type": "execute_result"
    },
    {
     "data": {
      "image/png": "[encoded data removed]",
      "text/plain": [
       "<Figure size 1080x432 with 1 Axes>"
      ]
     },
     "metadata": {
      "needs_background": "light"
     },
     "output_type": "display_data"
    }
   ],
   "source": [
    "# Plotar o grafico por sub grupo de procedimento\n",
    "df['Sub Grupo Procedimento'].value_counts().plot.bar(figsize = (15, 6))"
   ]
  },
  {
   "cell_type": "code",
   "execution_count": 15,
   "metadata": {},
   "outputs": [
    {
     "data": {
      "text/html": [
       "<div>\n",
       "<style scoped>\n",
       "    .dataframe tbody tr th:only-of-type {\n",
       "        vertical-align: middle;\n",
       "    }\n",
       "\n",
       "    .dataframe tbody tr th {\n",
       "        vertical-align: top;\n",
       "    }\n",
       "\n",
       "    .dataframe thead th {\n",
       "        text-align: right;\n",
       "    }\n",
       "</style>\n",
       "<table border=\"1\" class=\"dataframe\">\n",
       "  <thead>\n",
       "    <tr style=\"text-align: right;\">\n",
       "      <th></th>\n",
       "      <th>Hospital</th>\n",
       "      <th>Municipio</th>\n",
       "      <th>Complexidade</th>\n",
       "      <th>Carater Atendimento</th>\n",
       "      <th>Sub Grupo Procedimento</th>\n",
       "      <th>Procedimento</th>\n",
       "    </tr>\n",
       "  </thead>\n",
       "  <tbody>\n",
       "    <tr>\n",
       "      <th>1</th>\n",
       "      <td>0010456 HBDF HOSPITAL DE BASE DO DISTRITO FEDERAL</td>\n",
       "      <td>BRASILIA, DF, BR</td>\n",
       "      <td>Média complexidade</td>\n",
       "      <td>Urgência</td>\n",
       "      <td>Sub Grupo: 03 - Cirurgia do sistema nervoso ce...</td>\n",
       "      <td>DERIVACAO VENTRICULAR EXTERNAR-SUBGALEAL EXTERNA</td>\n",
       "    </tr>\n",
       "    <tr>\n",
       "      <th>2</th>\n",
       "      <td>0010456 HBDF HOSPITAL DE BASE DO DISTRITO FEDERAL</td>\n",
       "      <td>BRASILIA, DF, BR</td>\n",
       "      <td>Média complexidade</td>\n",
       "      <td>Urgência</td>\n",
       "      <td>Sub Grupo: 15 - Outras cirurgias</td>\n",
       "      <td>TRATAMENTO C/ CIRURGIAS MULTIPLAS</td>\n",
       "    </tr>\n",
       "    <tr>\n",
       "      <th>4</th>\n",
       "      <td>0010456 HBDF HOSPITAL DE BASE DO DISTRITO FEDERAL</td>\n",
       "      <td>BRASILIA, DF, BR</td>\n",
       "      <td>Alta complexidade</td>\n",
       "      <td>Eletivo</td>\n",
       "      <td>Sub Grupo: 16 - Cirurgia em oncologia</td>\n",
       "      <td>RESSECCAO DE TUMOR DE PARTES MOLES EM ONCOLOGIA</td>\n",
       "    </tr>\n",
       "    <tr>\n",
       "      <th>5</th>\n",
       "      <td>0010456 HBDF HOSPITAL DE BASE DO DISTRITO FEDERAL</td>\n",
       "      <td>BRASILIA, DF, BR</td>\n",
       "      <td>Alta complexidade</td>\n",
       "      <td>Eletivo</td>\n",
       "      <td>Sub Grupo: 06 - Cirurgia do aparelho circulatório</td>\n",
       "      <td>IMPLANTAÇÃO DE CATETER DE LONGA PERMANÊNCIA SE...</td>\n",
       "    </tr>\n",
       "    <tr>\n",
       "      <th>6</th>\n",
       "      <td>0010456 HBDF HOSPITAL DE BASE DO DISTRITO FEDERAL</td>\n",
       "      <td>BRASILIA, DF, BR</td>\n",
       "      <td>Média complexidade</td>\n",
       "      <td>Urgência</td>\n",
       "      <td>Sub Grupo: 06 - Cirurgia do aparelho circulatório</td>\n",
       "      <td>TRATAMENTO CIRURGICO DE LESOES VASCULARES TRAU...</td>\n",
       "    </tr>\n",
       "  </tbody>\n",
       "</table>\n",
       "</div>"
      ],
      "text/plain": [
       "                                            Hospital          Municipio  \\\n",
       "1  0010456 HBDF HOSPITAL DE BASE DO DISTRITO FEDERAL  BRASILIA, DF, BR    \n",
       "2  0010456 HBDF HOSPITAL DE BASE DO DISTRITO FEDERAL  BRASILIA, DF, BR    \n",
       "4  0010456 HBDF HOSPITAL DE BASE DO DISTRITO FEDERAL  BRASILIA, DF, BR    \n",
       "5  0010456 HBDF HOSPITAL DE BASE DO DISTRITO FEDERAL  BRASILIA, DF, BR    \n",
       "6  0010456 HBDF HOSPITAL DE BASE DO DISTRITO FEDERAL  BRASILIA, DF, BR    \n",
       "\n",
       "         Complexidade Carater Atendimento  \\\n",
       "1  Média complexidade            Urgência   \n",
       "2  Média complexidade            Urgência   \n",
       "4   Alta complexidade             Eletivo   \n",
       "5   Alta complexidade             Eletivo   \n",
       "6  Média complexidade            Urgência   \n",
       "\n",
       "                              Sub Grupo Procedimento  \\\n",
       "1  Sub Grupo: 03 - Cirurgia do sistema nervoso ce...   \n",
       "2                   Sub Grupo: 15 - Outras cirurgias   \n",
       "4              Sub Grupo: 16 - Cirurgia em oncologia   \n",
       "5  Sub Grupo: 06 - Cirurgia do aparelho circulatório   \n",
       "6  Sub Grupo: 06 - Cirurgia do aparelho circulatório   \n",
       "\n",
       "                                        Procedimento  \n",
       "1   DERIVACAO VENTRICULAR EXTERNAR-SUBGALEAL EXTERNA  \n",
       "2                  TRATAMENTO C/ CIRURGIAS MULTIPLAS  \n",
       "4    RESSECCAO DE TUMOR DE PARTES MOLES EM ONCOLOGIA  \n",
       "5  IMPLANTAÇÃO DE CATETER DE LONGA PERMANÊNCIA SE...  \n",
       "6  TRATAMENTO CIRURGICO DE LESOES VASCULARES TRAU...  "
      ]
     },
     "execution_count": 15,
     "metadata": {},
     "output_type": "execute_result"
    }
   ],
   "source": [
    "# Criando um subconjunto do data frame original\n",
    "df_hospital_base = df[df['Hospital'] == '0010456 HBDF HOSPITAL DE BASE DO DISTRITO FEDERAL']\n",
    "\n",
    "\n",
    "df_hospital_base.head()"
   ]
  },
  {
   "cell_type": "code",
   "execution_count": 16,
   "metadata": {},
   "outputs": [
    {
     "data": {
      "text/html": [
       "<div>\n",
       "<style scoped>\n",
       "    .dataframe tbody tr th:only-of-type {\n",
       "        vertical-align: middle;\n",
       "    }\n",
       "\n",
       "    .dataframe tbody tr th {\n",
       "        vertical-align: top;\n",
       "    }\n",
       "\n",
       "    .dataframe thead th {\n",
       "        text-align: right;\n",
       "    }\n",
       "</style>\n",
       "<table border=\"1\" class=\"dataframe\">\n",
       "  <thead>\n",
       "    <tr style=\"text-align: right;\">\n",
       "      <th></th>\n",
       "      <th>Hospital</th>\n",
       "      <th>Municipio</th>\n",
       "      <th>Complexidade</th>\n",
       "      <th>Carater Atendimento</th>\n",
       "      <th>Sub Grupo Procedimento</th>\n",
       "      <th>Procedimento</th>\n",
       "    </tr>\n",
       "  </thead>\n",
       "  <tbody>\n",
       "    <tr>\n",
       "      <th>1844</th>\n",
       "      <td>0010456 HBDF HOSPITAL DE BASE DO DISTRITO FEDERAL</td>\n",
       "      <td>BRASILIA, DF, BR</td>\n",
       "      <td>Alta complexidade</td>\n",
       "      <td>Eletivo</td>\n",
       "      <td>Sub Grupo: 05 - Cirurgia do aparelho da visão</td>\n",
       "      <td>FACOEMULSIFICACAO C/ IMPLANTE DE LENTE INTRA-O...</td>\n",
       "    </tr>\n",
       "    <tr>\n",
       "      <th>201</th>\n",
       "      <td>0010456 HBDF HOSPITAL DE BASE DO DISTRITO FEDERAL</td>\n",
       "      <td>BRASILIA, DF, BR</td>\n",
       "      <td>Alta complexidade</td>\n",
       "      <td>Eletivo</td>\n",
       "      <td>Sub Grupo: 16 - Cirurgia em oncologia</td>\n",
       "      <td>SEGMENTECTOMIA/QUADRANTECTOMIA/SETORECTOMIA DE...</td>\n",
       "    </tr>\n",
       "    <tr>\n",
       "      <th>1800</th>\n",
       "      <td>0010456 HBDF HOSPITAL DE BASE DO DISTRITO FEDERAL</td>\n",
       "      <td>BRASILIA, DF, BR</td>\n",
       "      <td>Alta complexidade</td>\n",
       "      <td>Eletivo</td>\n",
       "      <td>Sub Grupo: 16 - Cirurgia em oncologia</td>\n",
       "      <td>COLECTOMIA TOTAL EM ONCOLOGIA</td>\n",
       "    </tr>\n",
       "    <tr>\n",
       "      <th>1738</th>\n",
       "      <td>0010456 HBDF HOSPITAL DE BASE DO DISTRITO FEDERAL</td>\n",
       "      <td>BRASILIA, DF, BR</td>\n",
       "      <td>Alta complexidade</td>\n",
       "      <td>Eletivo</td>\n",
       "      <td>Sub Grupo: 03 - Cirurgia do sistema nervoso ce...</td>\n",
       "      <td>TRATAMENTO CIRURGICO DE FISTULA LIQUORICA RAQU...</td>\n",
       "    </tr>\n",
       "    <tr>\n",
       "      <th>1494</th>\n",
       "      <td>0010456 HBDF HOSPITAL DE BASE DO DISTRITO FEDERAL</td>\n",
       "      <td>BRASILIA, DF, BR</td>\n",
       "      <td>Média complexidade</td>\n",
       "      <td>Outros tipos lesões/envenenamentos por agentes...</td>\n",
       "      <td>Sub Grupo: 08 - Cirurgia do sistema osteomuscular</td>\n",
       "      <td>REDUCAO INCRUENTA DE FRATURA DOS OSSOS DO TARSO</td>\n",
       "    </tr>\n",
       "    <tr>\n",
       "      <th>891</th>\n",
       "      <td>0010456 HBDF HOSPITAL DE BASE DO DISTRITO FEDERAL</td>\n",
       "      <td>BRASILIA, DF, BR</td>\n",
       "      <td>Média complexidade</td>\n",
       "      <td>Urgência</td>\n",
       "      <td>Sub Grupo: 03 - Cirurgia do sistema nervoso ce...</td>\n",
       "      <td>CRANIOTOMIA DESCOMPRESSIVA</td>\n",
       "    </tr>\n",
       "    <tr>\n",
       "      <th>1697</th>\n",
       "      <td>0010456 HBDF HOSPITAL DE BASE DO DISTRITO FEDERAL</td>\n",
       "      <td>BRASILIA, DF, BR</td>\n",
       "      <td>Média complexidade</td>\n",
       "      <td>Urgência</td>\n",
       "      <td>Sub Grupo: 15 - Outras cirurgias</td>\n",
       "      <td>DEBRIDAMENTO DE FASCEITE NECROTIZANTE</td>\n",
       "    </tr>\n",
       "    <tr>\n",
       "      <th>1779</th>\n",
       "      <td>0010456 HBDF HOSPITAL DE BASE DO DISTRITO FEDERAL</td>\n",
       "      <td>BRASILIA, DF, BR</td>\n",
       "      <td>Média complexidade</td>\n",
       "      <td>Urgência</td>\n",
       "      <td>Sub Grupo: 15 - Outras cirurgias</td>\n",
       "      <td>DEBRIDAMENTO DE FASCEITE NECROTIZANTE</td>\n",
       "    </tr>\n",
       "  </tbody>\n",
       "</table>\n",
       "</div>"
      ],
      "text/plain": [
       "                                               Hospital          Municipio  \\\n",
       "1844  0010456 HBDF HOSPITAL DE BASE DO DISTRITO FEDERAL  BRASILIA, DF, BR    \n",
       "201   0010456 HBDF HOSPITAL DE BASE DO DISTRITO FEDERAL  BRASILIA, DF, BR    \n",
       "1800  0010456 HBDF HOSPITAL DE BASE DO DISTRITO FEDERAL  BRASILIA, DF, BR    \n",
       "1738  0010456 HBDF HOSPITAL DE BASE DO DISTRITO FEDERAL  BRASILIA, DF, BR    \n",
       "1494  0010456 HBDF HOSPITAL DE BASE DO DISTRITO FEDERAL  BRASILIA, DF, BR    \n",
       "891   0010456 HBDF HOSPITAL DE BASE DO DISTRITO FEDERAL  BRASILIA, DF, BR    \n",
       "1697  0010456 HBDF HOSPITAL DE BASE DO DISTRITO FEDERAL  BRASILIA, DF, BR    \n",
       "1779  0010456 HBDF HOSPITAL DE BASE DO DISTRITO FEDERAL  BRASILIA, DF, BR    \n",
       "\n",
       "            Complexidade                                Carater Atendimento  \\\n",
       "1844   Alta complexidade                                            Eletivo   \n",
       "201    Alta complexidade                                            Eletivo   \n",
       "1800   Alta complexidade                                            Eletivo   \n",
       "1738   Alta complexidade                                            Eletivo   \n",
       "1494  Média complexidade  Outros tipos lesões/envenenamentos por agentes...   \n",
       "891   Média complexidade                                           Urgência   \n",
       "1697  Média complexidade                                           Urgência   \n",
       "1779  Média complexidade                                           Urgência   \n",
       "\n",
       "                                 Sub Grupo Procedimento  \\\n",
       "1844      Sub Grupo: 05 - Cirurgia do aparelho da visão   \n",
       "201               Sub Grupo: 16 - Cirurgia em oncologia   \n",
       "1800              Sub Grupo: 16 - Cirurgia em oncologia   \n",
       "1738  Sub Grupo: 03 - Cirurgia do sistema nervoso ce...   \n",
       "1494  Sub Grupo: 08 - Cirurgia do sistema osteomuscular   \n",
       "891   Sub Grupo: 03 - Cirurgia do sistema nervoso ce...   \n",
       "1697                   Sub Grupo: 15 - Outras cirurgias   \n",
       "1779                   Sub Grupo: 15 - Outras cirurgias   \n",
       "\n",
       "                                           Procedimento  \n",
       "1844  FACOEMULSIFICACAO C/ IMPLANTE DE LENTE INTRA-O...  \n",
       "201   SEGMENTECTOMIA/QUADRANTECTOMIA/SETORECTOMIA DE...  \n",
       "1800                      COLECTOMIA TOTAL EM ONCOLOGIA  \n",
       "1738  TRATAMENTO CIRURGICO DE FISTULA LIQUORICA RAQU...  \n",
       "1494    REDUCAO INCRUENTA DE FRATURA DOS OSSOS DO TARSO  \n",
       "891                          CRANIOTOMIA DESCOMPRESSIVA  \n",
       "1697              DEBRIDAMENTO DE FASCEITE NECROTIZANTE  \n",
       "1779              DEBRIDAMENTO DE FASCEITE NECROTIZANTE  "
      ]
     },
     "execution_count": 16,
     "metadata": {},
     "output_type": "execute_result"
    }
   ],
   "source": [
    "# listar linhas aleatorias\n",
    "df_hospital_base.sample(8)"
   ]
  },
  {
   "cell_type": "code",
   "execution_count": 17,
   "metadata": {},
   "outputs": [
    {
     "data": {
      "text/plain": [
       "TRATAMENTO C/ CIRURGIAS MULTIPLAS                                    47\n",
       "TRAQUEOSTOMIA                                                        28\n",
       "DERIVACAO VENTRICULAR PARA PERITONEO / ATRIO / PLEURA / RAQUE        26\n",
       "TORACOSTOMIA COM DRENAGEM PLEURAL FECHADA                            23\n",
       "IMPLANTE DE MARCAPASSO DE CAMARA DUPLA TRANSVENOSO                   21\n",
       "                                                                     ..\n",
       "ARTROPLASTIA PARCIAL DE QUADRIL                                       1\n",
       "AMPUTAÇÃO / DESARTICULAÇÃO DE MEMBROS SUPERIORES                      1\n",
       "TROCA DE GERADOR DE MARCAPASSO DE CAMARA UNICA                        1\n",
       "TRATAMENTO CIRÚRGICO DE FRATURA / LESÃO FISARIA DOS METACARPIANOS     1\n",
       "SINUSOTOMIA BILATERAL                                                 1\n",
       "Name: Procedimento, Length: 242, dtype: int64"
      ]
     },
     "execution_count": 17,
     "metadata": {},
     "output_type": "execute_result"
    }
   ],
   "source": [
    "# Quantidade de procedimento realizados no hospital de base\n",
    "df_hospital_base['Procedimento'].value_counts()"
   ]
  },
  {
   "cell_type": "code",
   "execution_count": 18,
   "metadata": {},
   "outputs": [
    {
     "data": {
      "text/plain": [
       "Hospital                  33\n",
       "Municipio                 33\n",
       "Complexidade              33\n",
       "Carater Atendimento       33\n",
       "Sub Grupo Procedimento    33\n",
       "Procedimento              33\n",
       "dtype: int64"
      ]
     },
     "execution_count": 18,
     "metadata": {},
     "output_type": "execute_result"
    }
   ],
   "source": [
    "# Pode-se fatiar o dataframe com base em pedaço de palavra\n",
    "\n",
    "df_hospital_base[df_hospital_base['Procedimento'].str.contains('AMPUTA')].count()"
   ]
  },
  {
   "cell_type": "code",
   "execution_count": 19,
   "metadata": {},
   "outputs": [
    {
     "data": {
      "text/html": [
       "<div>\n",
       "<style scoped>\n",
       "    .dataframe tbody tr th:only-of-type {\n",
       "        vertical-align: middle;\n",
       "    }\n",
       "\n",
       "    .dataframe tbody tr th {\n",
       "        vertical-align: top;\n",
       "    }\n",
       "\n",
       "    .dataframe thead th {\n",
       "        text-align: right;\n",
       "    }\n",
       "</style>\n",
       "<table border=\"1\" class=\"dataframe\">\n",
       "  <thead>\n",
       "    <tr style=\"text-align: right;\">\n",
       "      <th></th>\n",
       "      <th>Hospital</th>\n",
       "      <th>Municipio</th>\n",
       "      <th>Complexidade</th>\n",
       "      <th>Carater Atendimento</th>\n",
       "      <th>Sub Grupo Procedimento</th>\n",
       "      <th>Procedimento</th>\n",
       "    </tr>\n",
       "  </thead>\n",
       "  <tbody>\n",
       "    <tr>\n",
       "      <th>130</th>\n",
       "      <td>0010545 HRBZ</td>\n",
       "      <td>BRAZLANDIA, DF, BR</td>\n",
       "      <td>Média complexidade</td>\n",
       "      <td>Urgência</td>\n",
       "      <td>Sub Grupo: 11 - Cirurgia obstétrica</td>\n",
       "      <td>PARTO CESARIANO</td>\n",
       "    </tr>\n",
       "    <tr>\n",
       "      <th>131</th>\n",
       "      <td>0010545 HRBZ</td>\n",
       "      <td>BRAZLANDIA, DF, BR</td>\n",
       "      <td>Média complexidade</td>\n",
       "      <td>Urgência</td>\n",
       "      <td>Sub Grupo: 11 - Cirurgia obstétrica</td>\n",
       "      <td>PARTO CESARIANO</td>\n",
       "    </tr>\n",
       "    <tr>\n",
       "      <th>132</th>\n",
       "      <td>0010545 HRBZ</td>\n",
       "      <td>BRAZLANDIA, DF, BR</td>\n",
       "      <td>Média complexidade</td>\n",
       "      <td>Urgência</td>\n",
       "      <td>Sub Grupo: 11 - Cirurgia obstétrica</td>\n",
       "      <td>PARTO CESARIANO</td>\n",
       "    </tr>\n",
       "    <tr>\n",
       "      <th>133</th>\n",
       "      <td>0010545 HRBZ</td>\n",
       "      <td>BRAZLANDIA, DF, BR</td>\n",
       "      <td>Média complexidade</td>\n",
       "      <td>Urgência</td>\n",
       "      <td>Sub Grupo: 11 - Cirurgia obstétrica</td>\n",
       "      <td>PARTO CESARIANO</td>\n",
       "    </tr>\n",
       "    <tr>\n",
       "      <th>141</th>\n",
       "      <td>0010545 HRBZ</td>\n",
       "      <td>BRAZLANDIA, DF, BR</td>\n",
       "      <td>Média complexidade</td>\n",
       "      <td>Urgência</td>\n",
       "      <td>Sub Grupo: 11 - Cirurgia obstétrica</td>\n",
       "      <td>PARTO CESARIANO</td>\n",
       "    </tr>\n",
       "  </tbody>\n",
       "</table>\n",
       "</div>"
      ],
      "text/plain": [
       "         Hospital            Municipio        Complexidade  \\\n",
       "130  0010545 HRBZ  BRAZLANDIA, DF, BR   Média complexidade   \n",
       "131  0010545 HRBZ  BRAZLANDIA, DF, BR   Média complexidade   \n",
       "132  0010545 HRBZ  BRAZLANDIA, DF, BR   Média complexidade   \n",
       "133  0010545 HRBZ  BRAZLANDIA, DF, BR   Média complexidade   \n",
       "141  0010545 HRBZ  BRAZLANDIA, DF, BR   Média complexidade   \n",
       "\n",
       "    Carater Atendimento               Sub Grupo Procedimento     Procedimento  \n",
       "130            Urgência  Sub Grupo: 11 - Cirurgia obstétrica  PARTO CESARIANO  \n",
       "131            Urgência  Sub Grupo: 11 - Cirurgia obstétrica  PARTO CESARIANO  \n",
       "132            Urgência  Sub Grupo: 11 - Cirurgia obstétrica  PARTO CESARIANO  \n",
       "133            Urgência  Sub Grupo: 11 - Cirurgia obstétrica  PARTO CESARIANO  \n",
       "141            Urgência  Sub Grupo: 11 - Cirurgia obstétrica  PARTO CESARIANO  "
      ]
     },
     "execution_count": 19,
     "metadata": {},
     "output_type": "execute_result"
    }
   ],
   "source": [
    "#dividir o dataframe Original apenas pelo procedimento de parto cesariano\n",
    "df_parto_cesariano = df[df['Procedimento'] == 'PARTO CESARIANO']\n",
    "df_parto_cesariano.head()"
   ]
  },
  {
   "cell_type": "code",
   "execution_count": 20,
   "metadata": {},
   "outputs": [
    {
     "data": {
      "text/plain": [
       "0010480 HOSPITAL REGIONAL DE CEILANDIA                165\n",
       "2645157 HRPA                                          123\n",
       "5717515 HRSM                                          110\n",
       "0010537 HOSPITAL MATERNO INFANTIL DE BRASILIA HMIB     93\n",
       "2672197 HRSAM HOSPITAL REGIONAL DE SAMAMBAIA           92\n",
       "0010502 HRS                                            92\n",
       "0010464 HRAN                                           88\n",
       "0010529 HRPL                                           79\n",
       "0010499 HRT HOSPITAL REGIONAL DE TAGUATINGA            74\n",
       "0010510 HOSPITAL UNIVERSITARIO DE BRASILIA             63\n",
       "0010472 HRG                                            47\n",
       "0010545 HRBZ                                           34\n",
       "Name: Hospital, dtype: int64"
      ]
     },
     "execution_count": 20,
     "metadata": {},
     "output_type": "execute_result"
    }
   ],
   "source": [
    "#verificar a quantidade de partos cesarianos por hospital\n",
    "df_parto_cesariano['Hospital'].value_counts()"
   ]
  },
  {
   "cell_type": "code",
   "execution_count": 21,
   "metadata": {},
   "outputs": [
    {
     "data": {
      "text/plain": [
       "Urgência    1041\n",
       "Eletivo       19\n",
       "Name: Carater Atendimento, dtype: int64"
      ]
     },
     "execution_count": 21,
     "metadata": {},
     "output_type": "execute_result"
    }
   ],
   "source": [
    "#quantidade de partos por carater de atendimento\n",
    "df_parto_cesariano['Carater Atendimento'].value_counts()"
   ]
  },
  {
   "cell_type": "code",
   "execution_count": 22,
   "metadata": {},
   "outputs": [
    {
     "data": {
      "text/html": [
       "<div>\n",
       "<style scoped>\n",
       "    .dataframe tbody tr th:only-of-type {\n",
       "        vertical-align: middle;\n",
       "    }\n",
       "\n",
       "    .dataframe tbody tr th {\n",
       "        vertical-align: top;\n",
       "    }\n",
       "\n",
       "    .dataframe thead th {\n",
       "        text-align: right;\n",
       "    }\n",
       "</style>\n",
       "<table border=\"1\" class=\"dataframe\">\n",
       "  <thead>\n",
       "    <tr style=\"text-align: right;\">\n",
       "      <th></th>\n",
       "      <th>Hospital</th>\n",
       "      <th>Municipio</th>\n",
       "      <th>Complexidade</th>\n",
       "      <th>Carater Atendimento</th>\n",
       "      <th>Sub Grupo Procedimento</th>\n",
       "      <th>Procedimento</th>\n",
       "    </tr>\n",
       "  </thead>\n",
       "  <tbody>\n",
       "  </tbody>\n",
       "</table>\n",
       "</div>"
      ],
      "text/plain": [
       "Empty DataFrame\n",
       "Columns: [Hospital, Municipio, Complexidade, Carater Atendimento, Sub Grupo Procedimento, Procedimento]\n",
       "Index: []"
      ]
     },
     "execution_count": 22,
     "metadata": {},
     "output_type": "execute_result"
    }
   ],
   "source": [
    "#verificar se teve parto normal o cesariana\n",
    "df_parto_normal = df[df['Procedimento'] == 'PARTO NORMAL']\n",
    "df_parto_normal.head()"
   ]
  },
  {
   "cell_type": "code",
   "execution_count": 25,
   "metadata": {},
   "outputs": [
    {
     "data": {
      "text/plain": [
       "<matplotlib.axes._subplots.AxesSubplot at 0x7f4b30169e10>"
      ]
     },
     "execution_count": 25,
     "metadata": {},
     "output_type": "execute_result"
    },
    {
     "data": {
      "image/png": "[encoded data removed]",
      "text/plain": [
       "<Figure size 1440x864 with 1 Axes>"
      ]
     },
     "metadata": {
      "needs_background": "light"
     },
     "output_type": "display_data"
    }
   ],
   "source": [
    "# Plotar um grafico de barras na horizontal\n",
    "df_parto_cesariano['Hospital'].value_counts().plot.barh(figsize = (20, 12))"
   ]
  },
  {
   "cell_type": "code",
   "execution_count": 24,
   "metadata": {},
   "outputs": [
    {
     "data": {
      "text/plain": [
       "<matplotlib.axes._subplots.AxesSubplot at 0x7f4b2fcb6b50>"
      ]
     },
     "execution_count": 24,
     "metadata": {},
     "output_type": "execute_result"
    },
    {
     "data": {
      "image/png": "[encoded data removed]",
      "text/plain": [
       "<Figure size 1440x864 with 1 Axes>"
      ]
     },
     "metadata": {
      "needs_background": "light"
     },
     "output_type": "display_data"
    }
   ],
   "source": [
    "# Melhorando o grafico de barras horizontal \n",
    "\n",
    "#colocando titulo\n",
    "df_parto_cesariano['Hospital'].value_counts(ascending = True ).plot.barh(\n",
    "    title='Quantidade de Partos Cesariana por Hospital',figsize = (20, 12))"
   ]
  },
  {
   "cell_type": "code",
   "execution_count": null,
   "metadata": {},
   "outputs": [],
   "source": []
  },
  {
   "cell_type": "code",
   "execution_count": null,
   "metadata": {},
   "outputs": [],
   "source": []
  },
  {
   "cell_type": "code",
   "execution_count": null,
   "metadata": {},
   "outputs": [],
   "source": []
  }
 ],
 "metadata": {
  "kernelspec": {
   "display_name": "Python 3",
   "language": "python",
   "name": "python3"
  },
  "language_info": {
   "codemirror_mode": {
    "name": "ipython",
    "version": 3
   },
   "file_extension": ".py",
   "mimetype": "text/x-python",
   "name": "python",
   "nbconvert_exporter": "python",
   "pygments_lexer": "ipython3",
   "version": "3.7.6"
  }
 },
 "nbformat": 4,
 "nbformat_minor": 4
}
