{
 "cells": [
  {
   "cell_type": "markdown",
   "metadata": {},
   "source": [
    "# Mapa das escolas do Rio Grande do Sul por taxa de distorção de série"
   ]
  },
  {
   "cell_type": "code",
   "execution_count": null,
   "metadata": {},
   "outputs": [],
   "source": []
  },
  {
   "cell_type": "code",
   "execution_count": 1,
   "metadata": {},
   "outputs": [
    {
     "name": "stdout",
     "output_type": "stream",
     "text": [
      "Requirement already satisfied: folium in /home/leandro/.pyenv/versions/3.8.2/lib/python3.8/site-packages (0.11.0)\n",
      "Requirement already satisfied: requests in /home/leandro/.pyenv/versions/3.8.2/lib/python3.8/site-packages (from folium) (2.23.0)\n",
      "Requirement already satisfied: numpy in /home/leandro/.pyenv/versions/3.8.2/lib/python3.8/site-packages (from folium) (1.18.4)\n",
      "Requirement already satisfied: jinja2>=2.9 in /home/leandro/.pyenv/versions/3.8.2/lib/python3.8/site-packages (from folium) (2.11.2)\n",
      "Requirement already satisfied: branca>=0.3.0 in /home/leandro/.pyenv/versions/3.8.2/lib/python3.8/site-packages (from folium) (0.4.1)\n",
      "Requirement already satisfied: certifi>=2017.4.17 in /home/leandro/.pyenv/versions/3.8.2/lib/python3.8/site-packages (from requests->folium) (2020.4.5.1)\n",
      "Requirement already satisfied: urllib3!=1.25.0,!=1.25.1,<1.26,>=1.21.1 in /home/leandro/.pyenv/versions/3.8.2/lib/python3.8/site-packages (from requests->folium) (1.25.9)\n",
      "Requirement already satisfied: idna<3,>=2.5 in /home/leandro/.pyenv/versions/3.8.2/lib/python3.8/site-packages (from requests->folium) (2.9)\n",
      "Requirement already satisfied: chardet<4,>=3.0.2 in /home/leandro/.pyenv/versions/3.8.2/lib/python3.8/site-packages (from requests->folium) (3.0.4)\n",
      "Requirement already satisfied: MarkupSafe>=0.23 in /home/leandro/.pyenv/versions/3.8.2/lib/python3.8/site-packages (from jinja2>=2.9->folium) (1.1.1)\n",
      "\u001b[33mWARNING: You are using pip version 19.2.3, however version 20.1 is available.\n",
      "You should consider upgrading via the 'pip install --upgrade pip' command.\u001b[0m\n"
     ]
    }
   ],
   "source": [
    "# Comando abaixo não funcionou\n",
    "!pip install folium"
   ]
  },
  {
   "cell_type": "code",
   "execution_count": 2,
   "metadata": {},
   "outputs": [],
   "source": [
    "#importando o pandas \n",
    "import pandas as pd\n",
    "%matplotlib inline"
   ]
  },
  {
   "cell_type": "code",
   "execution_count": 3,
   "metadata": {},
   "outputs": [
    {
     "name": "stdout",
     "output_type": "stream",
     "text": [
      "Requirement already satisfied: folium in /home/leandro/.pyenv/versions/3.8.2/lib/python3.8/site-packages (0.11.0)\n",
      "Requirement already satisfied: jinja2>=2.9 in /home/leandro/.pyenv/versions/3.8.2/lib/python3.8/site-packages (from folium) (2.11.2)\n",
      "Requirement already satisfied: branca>=0.3.0 in /home/leandro/.pyenv/versions/3.8.2/lib/python3.8/site-packages (from folium) (0.4.1)\n",
      "Requirement already satisfied: requests in /home/leandro/.pyenv/versions/3.8.2/lib/python3.8/site-packages (from folium) (2.23.0)\n",
      "Requirement already satisfied: numpy in /home/leandro/.pyenv/versions/3.8.2/lib/python3.8/site-packages (from folium) (1.18.4)\n",
      "Requirement already satisfied: MarkupSafe>=0.23 in /home/leandro/.pyenv/versions/3.8.2/lib/python3.8/site-packages (from jinja2>=2.9->folium) (1.1.1)\n",
      "Requirement already satisfied: urllib3!=1.25.0,!=1.25.1,<1.26,>=1.21.1 in /home/leandro/.pyenv/versions/3.8.2/lib/python3.8/site-packages (from requests->folium) (1.25.9)\n",
      "Requirement already satisfied: chardet<4,>=3.0.2 in /home/leandro/.pyenv/versions/3.8.2/lib/python3.8/site-packages (from requests->folium) (3.0.4)\n",
      "Requirement already satisfied: idna<3,>=2.5 in /home/leandro/.pyenv/versions/3.8.2/lib/python3.8/site-packages (from requests->folium) (2.9)\n",
      "Requirement already satisfied: certifi>=2017.4.17 in /home/leandro/.pyenv/versions/3.8.2/lib/python3.8/site-packages (from requests->folium) (2020.4.5.1)\n",
      "\u001b[33mWARNING: You are using pip version 19.2.3, however version 20.1 is available.\n",
      "You should consider upgrading via the 'pip install --upgrade pip' command.\u001b[0m\n"
     ]
    }
   ],
   "source": [
    "# Comando abaixo não funcionou\n",
    "\n",
    "!python -m pip install folium"
   ]
  },
  {
   "cell_type": "markdown",
   "metadata": {},
   "source": [
    "#### Funcionando o comando\n",
    "* link: https://anaconda.org/conda-forge/folium\n",
    "* comando execultado\n",
    "    *  conda install -c conda-forge folium "
   ]
  },
  {
   "cell_type": "code",
   "execution_count": 4,
   "metadata": {},
   "outputs": [],
   "source": [
    "import folium"
   ]
  },
  {
   "cell_type": "code",
   "execution_count": 5,
   "metadata": {},
   "outputs": [
    {
     "data": {
      "text/html": [
       "<div>\n",
       "<style scoped>\n",
       "    .dataframe tbody tr th:only-of-type {\n",
       "        vertical-align: middle;\n",
       "    }\n",
       "\n",
       "    .dataframe tbody tr th {\n",
       "        vertical-align: top;\n",
       "    }\n",
       "\n",
       "    .dataframe thead th {\n",
       "        text-align: right;\n",
       "    }\n",
       "</style>\n",
       "<table border=\"1\" class=\"dataframe\">\n",
       "  <thead>\n",
       "    <tr style=\"text-align: right;\">\n",
       "      <th></th>\n",
       "      <th>Município</th>\n",
       "      <th>ibge</th>\n",
       "      <th>latitude</th>\n",
       "      <th>longitude</th>\n",
       "      <th>/Educação/Ens...de Série/Total 2013 (-)</th>\n",
       "    </tr>\n",
       "  </thead>\n",
       "  <tbody>\n",
       "    <tr>\n",
       "      <th>0</th>\n",
       "      <td>Aceguá</td>\n",
       "      <td>4300034</td>\n",
       "      <td>-31.86076</td>\n",
       "      <td>-54.16706</td>\n",
       "      <td>25,7</td>\n",
       "    </tr>\n",
       "    <tr>\n",
       "      <th>1</th>\n",
       "      <td>Água Santa</td>\n",
       "      <td>4300059</td>\n",
       "      <td>-28.16720</td>\n",
       "      <td>-52.03100</td>\n",
       "      <td>14,7</td>\n",
       "    </tr>\n",
       "    <tr>\n",
       "      <th>2</th>\n",
       "      <td>Agudo</td>\n",
       "      <td>4300109</td>\n",
       "      <td>-29.64470</td>\n",
       "      <td>-53.25150</td>\n",
       "      <td>26,4</td>\n",
       "    </tr>\n",
       "    <tr>\n",
       "      <th>3</th>\n",
       "      <td>Ajuricaba</td>\n",
       "      <td>4300208</td>\n",
       "      <td>-28.23420</td>\n",
       "      <td>-53.77570</td>\n",
       "      <td>24,1</td>\n",
       "    </tr>\n",
       "    <tr>\n",
       "      <th>4</th>\n",
       "      <td>Alecrim</td>\n",
       "      <td>4300307</td>\n",
       "      <td>-27.65790</td>\n",
       "      <td>-54.76490</td>\n",
       "      <td>18,9</td>\n",
       "    </tr>\n",
       "  </tbody>\n",
       "</table>\n",
       "</div>"
      ],
      "text/plain": [
       "    Município     ibge  latitude  longitude  \\\n",
       "0      Aceguá  4300034 -31.86076  -54.16706   \n",
       "1  Água Santa  4300059 -28.16720  -52.03100   \n",
       "2       Agudo  4300109 -29.64470  -53.25150   \n",
       "3   Ajuricaba  4300208 -28.23420  -53.77570   \n",
       "4     Alecrim  4300307 -27.65790  -54.76490   \n",
       "\n",
       "  /Educação/Ens...de Série/Total 2013 (-)  \n",
       "0                                    25,7  \n",
       "1                                    14,7  \n",
       "2                                    26,4  \n",
       "3                                    24,1  \n",
       "4                                    18,9  "
      ]
     },
     "execution_count": 5,
     "metadata": {},
     "output_type": "execute_result"
    }
   ],
   "source": [
    "# Carregando aquivo csv\n",
    "df = pd.read_csv('src/fee-2013-mun-taxa-de-distorcao-idade-serie-total-102524.csv',\n",
    "                encoding='latin1',skiprows=1)\n",
    "\n",
    "df.head()"
   ]
  },
  {
   "cell_type": "code",
   "execution_count": 6,
   "metadata": {},
   "outputs": [
    {
     "data": {
      "text/html": [
       "<div>\n",
       "<style scoped>\n",
       "    .dataframe tbody tr th:only-of-type {\n",
       "        vertical-align: middle;\n",
       "    }\n",
       "\n",
       "    .dataframe tbody tr th {\n",
       "        vertical-align: top;\n",
       "    }\n",
       "\n",
       "    .dataframe thead th {\n",
       "        text-align: right;\n",
       "    }\n",
       "</style>\n",
       "<table border=\"1\" class=\"dataframe\">\n",
       "  <thead>\n",
       "    <tr style=\"text-align: right;\">\n",
       "      <th></th>\n",
       "      <th>Município</th>\n",
       "      <th>ibge</th>\n",
       "      <th>latitude</th>\n",
       "      <th>longitude</th>\n",
       "      <th>taxa_distorcao</th>\n",
       "    </tr>\n",
       "  </thead>\n",
       "  <tbody>\n",
       "    <tr>\n",
       "      <th>0</th>\n",
       "      <td>Aceguá</td>\n",
       "      <td>4300034</td>\n",
       "      <td>-31.86076</td>\n",
       "      <td>-54.16706</td>\n",
       "      <td>25,7</td>\n",
       "    </tr>\n",
       "    <tr>\n",
       "      <th>1</th>\n",
       "      <td>Água Santa</td>\n",
       "      <td>4300059</td>\n",
       "      <td>-28.16720</td>\n",
       "      <td>-52.03100</td>\n",
       "      <td>14,7</td>\n",
       "    </tr>\n",
       "    <tr>\n",
       "      <th>2</th>\n",
       "      <td>Agudo</td>\n",
       "      <td>4300109</td>\n",
       "      <td>-29.64470</td>\n",
       "      <td>-53.25150</td>\n",
       "      <td>26,4</td>\n",
       "    </tr>\n",
       "    <tr>\n",
       "      <th>3</th>\n",
       "      <td>Ajuricaba</td>\n",
       "      <td>4300208</td>\n",
       "      <td>-28.23420</td>\n",
       "      <td>-53.77570</td>\n",
       "      <td>24,1</td>\n",
       "    </tr>\n",
       "    <tr>\n",
       "      <th>4</th>\n",
       "      <td>Alecrim</td>\n",
       "      <td>4300307</td>\n",
       "      <td>-27.65790</td>\n",
       "      <td>-54.76490</td>\n",
       "      <td>18,9</td>\n",
       "    </tr>\n",
       "    <tr>\n",
       "      <th>...</th>\n",
       "      <td>...</td>\n",
       "      <td>...</td>\n",
       "      <td>...</td>\n",
       "      <td>...</td>\n",
       "      <td>...</td>\n",
       "    </tr>\n",
       "    <tr>\n",
       "      <th>490</th>\n",
       "      <td>Vista Alegre do Prata</td>\n",
       "      <td>4323606</td>\n",
       "      <td>-28.80520</td>\n",
       "      <td>-51.79460</td>\n",
       "      <td>2,6</td>\n",
       "    </tr>\n",
       "    <tr>\n",
       "      <th>491</th>\n",
       "      <td>Vista Gaúcha</td>\n",
       "      <td>4323705</td>\n",
       "      <td>-27.29020</td>\n",
       "      <td>-53.69740</td>\n",
       "      <td>10,9</td>\n",
       "    </tr>\n",
       "    <tr>\n",
       "      <th>492</th>\n",
       "      <td>Vitória das Missões</td>\n",
       "      <td>4323754</td>\n",
       "      <td>-28.35160</td>\n",
       "      <td>-54.50400</td>\n",
       "      <td>26,8</td>\n",
       "    </tr>\n",
       "    <tr>\n",
       "      <th>493</th>\n",
       "      <td>Westfalia</td>\n",
       "      <td>4323770</td>\n",
       "      <td>-29.37440</td>\n",
       "      <td>-51.74630</td>\n",
       "      <td>15,8</td>\n",
       "    </tr>\n",
       "    <tr>\n",
       "      <th>494</th>\n",
       "      <td>Xangri-lá</td>\n",
       "      <td>4323804</td>\n",
       "      <td>-29.80650</td>\n",
       "      <td>-50.05190</td>\n",
       "      <td>33,3</td>\n",
       "    </tr>\n",
       "  </tbody>\n",
       "</table>\n",
       "<p>495 rows × 5 columns</p>\n",
       "</div>"
      ],
      "text/plain": [
       "                 Município     ibge  latitude  longitude taxa_distorcao\n",
       "0                   Aceguá  4300034 -31.86076  -54.16706           25,7\n",
       "1               Água Santa  4300059 -28.16720  -52.03100           14,7\n",
       "2                    Agudo  4300109 -29.64470  -53.25150           26,4\n",
       "3                Ajuricaba  4300208 -28.23420  -53.77570           24,1\n",
       "4                  Alecrim  4300307 -27.65790  -54.76490           18,9\n",
       "..                     ...      ...       ...        ...            ...\n",
       "490  Vista Alegre do Prata  4323606 -28.80520  -51.79460            2,6\n",
       "491           Vista Gaúcha  4323705 -27.29020  -53.69740           10,9\n",
       "492    Vitória das Missões  4323754 -28.35160  -54.50400           26,8\n",
       "493              Westfalia  4323770 -29.37440  -51.74630           15,8\n",
       "494              Xangri-lá  4323804 -29.80650  -50.05190           33,3\n",
       "\n",
       "[495 rows x 5 columns]"
      ]
     },
     "execution_count": 6,
     "metadata": {},
     "output_type": "execute_result"
    }
   ],
   "source": [
    "# Renomeando uma coluna\n",
    "df.rename(columns={'/Educação/Ens...de Série/Total 2013 (-)':'taxa_distorcao'})"
   ]
  },
  {
   "cell_type": "code",
   "execution_count": 7,
   "metadata": {},
   "outputs": [
    {
     "data": {
      "text/html": [
       "<div>\n",
       "<style scoped>\n",
       "    .dataframe tbody tr th:only-of-type {\n",
       "        vertical-align: middle;\n",
       "    }\n",
       "\n",
       "    .dataframe tbody tr th {\n",
       "        vertical-align: top;\n",
       "    }\n",
       "\n",
       "    .dataframe thead th {\n",
       "        text-align: right;\n",
       "    }\n",
       "</style>\n",
       "<table border=\"1\" class=\"dataframe\">\n",
       "  <thead>\n",
       "    <tr style=\"text-align: right;\">\n",
       "      <th></th>\n",
       "      <th>Município</th>\n",
       "      <th>ibge</th>\n",
       "      <th>latitude</th>\n",
       "      <th>longitude</th>\n",
       "      <th>/Educação/Ens...de Série/Total 2013 (-)</th>\n",
       "    </tr>\n",
       "  </thead>\n",
       "  <tbody>\n",
       "    <tr>\n",
       "      <th>0</th>\n",
       "      <td>Aceguá</td>\n",
       "      <td>4300034</td>\n",
       "      <td>-31.86076</td>\n",
       "      <td>-54.16706</td>\n",
       "      <td>25,7</td>\n",
       "    </tr>\n",
       "    <tr>\n",
       "      <th>1</th>\n",
       "      <td>Água Santa</td>\n",
       "      <td>4300059</td>\n",
       "      <td>-28.16720</td>\n",
       "      <td>-52.03100</td>\n",
       "      <td>14,7</td>\n",
       "    </tr>\n",
       "    <tr>\n",
       "      <th>2</th>\n",
       "      <td>Agudo</td>\n",
       "      <td>4300109</td>\n",
       "      <td>-29.64470</td>\n",
       "      <td>-53.25150</td>\n",
       "      <td>26,4</td>\n",
       "    </tr>\n",
       "    <tr>\n",
       "      <th>3</th>\n",
       "      <td>Ajuricaba</td>\n",
       "      <td>4300208</td>\n",
       "      <td>-28.23420</td>\n",
       "      <td>-53.77570</td>\n",
       "      <td>24,1</td>\n",
       "    </tr>\n",
       "    <tr>\n",
       "      <th>4</th>\n",
       "      <td>Alecrim</td>\n",
       "      <td>4300307</td>\n",
       "      <td>-27.65790</td>\n",
       "      <td>-54.76490</td>\n",
       "      <td>18,9</td>\n",
       "    </tr>\n",
       "  </tbody>\n",
       "</table>\n",
       "</div>"
      ],
      "text/plain": [
       "    Município     ibge  latitude  longitude  \\\n",
       "0      Aceguá  4300034 -31.86076  -54.16706   \n",
       "1  Água Santa  4300059 -28.16720  -52.03100   \n",
       "2       Agudo  4300109 -29.64470  -53.25150   \n",
       "3   Ajuricaba  4300208 -28.23420  -53.77570   \n",
       "4     Alecrim  4300307 -27.65790  -54.76490   \n",
       "\n",
       "  /Educação/Ens...de Série/Total 2013 (-)  \n",
       "0                                    25,7  \n",
       "1                                    14,7  \n",
       "2                                    26,4  \n",
       "3                                    24,1  \n",
       "4                                    18,9  "
      ]
     },
     "execution_count": 7,
     "metadata": {},
     "output_type": "execute_result"
    }
   ],
   "source": [
    "df.head()"
   ]
  },
  {
   "cell_type": "markdown",
   "metadata": {},
   "source": [
    "O comando não funcionou por causa do comando criar uma copia do arquivo"
   ]
  },
  {
   "cell_type": "code",
   "execution_count": 8,
   "metadata": {},
   "outputs": [],
   "source": [
    "df.rename(columns={'/Educação/Ens...de Série/Total 2013 (-)':'taxa_distorcao'}, \n",
    "          inplace=True)"
   ]
  },
  {
   "cell_type": "code",
   "execution_count": 9,
   "metadata": {},
   "outputs": [
    {
     "data": {
      "text/html": [
       "<div>\n",
       "<style scoped>\n",
       "    .dataframe tbody tr th:only-of-type {\n",
       "        vertical-align: middle;\n",
       "    }\n",
       "\n",
       "    .dataframe tbody tr th {\n",
       "        vertical-align: top;\n",
       "    }\n",
       "\n",
       "    .dataframe thead th {\n",
       "        text-align: right;\n",
       "    }\n",
       "</style>\n",
       "<table border=\"1\" class=\"dataframe\">\n",
       "  <thead>\n",
       "    <tr style=\"text-align: right;\">\n",
       "      <th></th>\n",
       "      <th>Município</th>\n",
       "      <th>ibge</th>\n",
       "      <th>latitude</th>\n",
       "      <th>longitude</th>\n",
       "      <th>taxa_distorcao</th>\n",
       "    </tr>\n",
       "  </thead>\n",
       "  <tbody>\n",
       "    <tr>\n",
       "      <th>0</th>\n",
       "      <td>Aceguá</td>\n",
       "      <td>4300034</td>\n",
       "      <td>-31.86076</td>\n",
       "      <td>-54.16706</td>\n",
       "      <td>25,7</td>\n",
       "    </tr>\n",
       "    <tr>\n",
       "      <th>1</th>\n",
       "      <td>Água Santa</td>\n",
       "      <td>4300059</td>\n",
       "      <td>-28.16720</td>\n",
       "      <td>-52.03100</td>\n",
       "      <td>14,7</td>\n",
       "    </tr>\n",
       "    <tr>\n",
       "      <th>2</th>\n",
       "      <td>Agudo</td>\n",
       "      <td>4300109</td>\n",
       "      <td>-29.64470</td>\n",
       "      <td>-53.25150</td>\n",
       "      <td>26,4</td>\n",
       "    </tr>\n",
       "    <tr>\n",
       "      <th>3</th>\n",
       "      <td>Ajuricaba</td>\n",
       "      <td>4300208</td>\n",
       "      <td>-28.23420</td>\n",
       "      <td>-53.77570</td>\n",
       "      <td>24,1</td>\n",
       "    </tr>\n",
       "    <tr>\n",
       "      <th>4</th>\n",
       "      <td>Alecrim</td>\n",
       "      <td>4300307</td>\n",
       "      <td>-27.65790</td>\n",
       "      <td>-54.76490</td>\n",
       "      <td>18,9</td>\n",
       "    </tr>\n",
       "  </tbody>\n",
       "</table>\n",
       "</div>"
      ],
      "text/plain": [
       "    Município     ibge  latitude  longitude taxa_distorcao\n",
       "0      Aceguá  4300034 -31.86076  -54.16706           25,7\n",
       "1  Água Santa  4300059 -28.16720  -52.03100           14,7\n",
       "2       Agudo  4300109 -29.64470  -53.25150           26,4\n",
       "3   Ajuricaba  4300208 -28.23420  -53.77570           24,1\n",
       "4     Alecrim  4300307 -27.65790  -54.76490           18,9"
      ]
     },
     "execution_count": 9,
     "metadata": {},
     "output_type": "execute_result"
    }
   ],
   "source": [
    "df.head()"
   ]
  },
  {
   "cell_type": "code",
   "execution_count": 10,
   "metadata": {},
   "outputs": [
    {
     "name": "stdout",
     "output_type": "stream",
     "text": [
      "<class 'pandas.core.frame.DataFrame'>\n",
      "RangeIndex: 495 entries, 0 to 494\n",
      "Data columns (total 5 columns):\n",
      " #   Column          Non-Null Count  Dtype  \n",
      "---  ------          --------------  -----  \n",
      " 0   Município       495 non-null    object \n",
      " 1   ibge            495 non-null    int64  \n",
      " 2   latitude        495 non-null    float64\n",
      " 3   longitude       495 non-null    float64\n",
      " 4   taxa_distorcao  495 non-null    object \n",
      "dtypes: float64(2), int64(1), object(2)\n",
      "memory usage: 19.5+ KB\n"
     ]
    }
   ],
   "source": [
    "# Verificando dataframe\n",
    "df.info()"
   ]
  },
  {
   "cell_type": "markdown",
   "metadata": {},
   "source": [
    "#### Transformando a taxa de distorção para float"
   ]
  },
  {
   "cell_type": "code",
   "execution_count": 11,
   "metadata": {},
   "outputs": [
    {
     "data": {
      "text/html": [
       "<div>\n",
       "<style scoped>\n",
       "    .dataframe tbody tr th:only-of-type {\n",
       "        vertical-align: middle;\n",
       "    }\n",
       "\n",
       "    .dataframe tbody tr th {\n",
       "        vertical-align: top;\n",
       "    }\n",
       "\n",
       "    .dataframe thead th {\n",
       "        text-align: right;\n",
       "    }\n",
       "</style>\n",
       "<table border=\"1\" class=\"dataframe\">\n",
       "  <thead>\n",
       "    <tr style=\"text-align: right;\">\n",
       "      <th></th>\n",
       "      <th>Município</th>\n",
       "      <th>ibge</th>\n",
       "      <th>latitude</th>\n",
       "      <th>longitude</th>\n",
       "      <th>taxa_distorcao</th>\n",
       "    </tr>\n",
       "  </thead>\n",
       "  <tbody>\n",
       "    <tr>\n",
       "      <th>0</th>\n",
       "      <td>Aceguá</td>\n",
       "      <td>4300034</td>\n",
       "      <td>-31.86076</td>\n",
       "      <td>-54.16706</td>\n",
       "      <td>25.7</td>\n",
       "    </tr>\n",
       "    <tr>\n",
       "      <th>1</th>\n",
       "      <td>Água Santa</td>\n",
       "      <td>4300059</td>\n",
       "      <td>-28.16720</td>\n",
       "      <td>-52.03100</td>\n",
       "      <td>14.7</td>\n",
       "    </tr>\n",
       "    <tr>\n",
       "      <th>2</th>\n",
       "      <td>Agudo</td>\n",
       "      <td>4300109</td>\n",
       "      <td>-29.64470</td>\n",
       "      <td>-53.25150</td>\n",
       "      <td>26.4</td>\n",
       "    </tr>\n",
       "    <tr>\n",
       "      <th>3</th>\n",
       "      <td>Ajuricaba</td>\n",
       "      <td>4300208</td>\n",
       "      <td>-28.23420</td>\n",
       "      <td>-53.77570</td>\n",
       "      <td>24.1</td>\n",
       "    </tr>\n",
       "    <tr>\n",
       "      <th>4</th>\n",
       "      <td>Alecrim</td>\n",
       "      <td>4300307</td>\n",
       "      <td>-27.65790</td>\n",
       "      <td>-54.76490</td>\n",
       "      <td>18.9</td>\n",
       "    </tr>\n",
       "  </tbody>\n",
       "</table>\n",
       "</div>"
      ],
      "text/plain": [
       "    Município     ibge  latitude  longitude taxa_distorcao\n",
       "0      Aceguá  4300034 -31.86076  -54.16706           25.7\n",
       "1  Água Santa  4300059 -28.16720  -52.03100           14.7\n",
       "2       Agudo  4300109 -29.64470  -53.25150           26.4\n",
       "3   Ajuricaba  4300208 -28.23420  -53.77570           24.1\n",
       "4     Alecrim  4300307 -27.65790  -54.76490           18.9"
      ]
     },
     "execution_count": 11,
     "metadata": {},
     "output_type": "execute_result"
    }
   ],
   "source": [
    "# Trasnformar virgulas em ponto\n",
    "df['taxa_distorcao'] = df['taxa_distorcao'].str.replace(',','.')\n",
    "\n",
    "df.head()"
   ]
  },
  {
   "cell_type": "code",
   "execution_count": 12,
   "metadata": {},
   "outputs": [
    {
     "name": "stdout",
     "output_type": "stream",
     "text": [
      "<class 'pandas.core.frame.DataFrame'>\n",
      "RangeIndex: 495 entries, 0 to 494\n",
      "Data columns (total 5 columns):\n",
      " #   Column          Non-Null Count  Dtype  \n",
      "---  ------          --------------  -----  \n",
      " 0   Município       495 non-null    object \n",
      " 1   ibge            495 non-null    int64  \n",
      " 2   latitude        495 non-null    float64\n",
      " 3   longitude       495 non-null    float64\n",
      " 4   taxa_distorcao  495 non-null    object \n",
      "dtypes: float64(2), int64(1), object(2)\n",
      "memory usage: 19.5+ KB\n"
     ]
    }
   ],
   "source": [
    "df.info()"
   ]
  },
  {
   "cell_type": "code",
   "execution_count": 13,
   "metadata": {},
   "outputs": [
    {
     "name": "stdout",
     "output_type": "stream",
     "text": [
      "<class 'pandas.core.frame.DataFrame'>\n",
      "RangeIndex: 495 entries, 0 to 494\n",
      "Data columns (total 5 columns):\n",
      " #   Column          Non-Null Count  Dtype  \n",
      "---  ------          --------------  -----  \n",
      " 0   Município       495 non-null    object \n",
      " 1   ibge            495 non-null    int64  \n",
      " 2   latitude        495 non-null    float64\n",
      " 3   longitude       495 non-null    float64\n",
      " 4   taxa_distorcao  495 non-null    float64\n",
      "dtypes: float64(3), int64(1), object(1)\n",
      "memory usage: 19.5+ KB\n"
     ]
    }
   ],
   "source": [
    "#Transformando o formato para float \n",
    "df['taxa_distorcao'] = df['taxa_distorcao'].astype(float)\n",
    "\n",
    "# Verificando qual tipo de dado apos a transformação\n",
    "df.info()"
   ]
  },
  {
   "cell_type": "code",
   "execution_count": 14,
   "metadata": {},
   "outputs": [
    {
     "data": {
      "text/html": [
       "<div>\n",
       "<style scoped>\n",
       "    .dataframe tbody tr th:only-of-type {\n",
       "        vertical-align: middle;\n",
       "    }\n",
       "\n",
       "    .dataframe tbody tr th {\n",
       "        vertical-align: top;\n",
       "    }\n",
       "\n",
       "    .dataframe thead th {\n",
       "        text-align: right;\n",
       "    }\n",
       "</style>\n",
       "<table border=\"1\" class=\"dataframe\">\n",
       "  <thead>\n",
       "    <tr style=\"text-align: right;\">\n",
       "      <th></th>\n",
       "      <th>Município</th>\n",
       "      <th>ibge</th>\n",
       "      <th>latitude</th>\n",
       "      <th>longitude</th>\n",
       "      <th>taxa_distorcao</th>\n",
       "    </tr>\n",
       "  </thead>\n",
       "  <tbody>\n",
       "    <tr>\n",
       "      <th>490</th>\n",
       "      <td>Vista Alegre do Prata</td>\n",
       "      <td>4323606</td>\n",
       "      <td>-28.8052</td>\n",
       "      <td>-51.7946</td>\n",
       "      <td>2.6</td>\n",
       "    </tr>\n",
       "    <tr>\n",
       "      <th>375</th>\n",
       "      <td>Santo Antônio do Palma</td>\n",
       "      <td>4317558</td>\n",
       "      <td>-28.4956</td>\n",
       "      <td>-52.0267</td>\n",
       "      <td>4.3</td>\n",
       "    </tr>\n",
       "    <tr>\n",
       "      <th>28</th>\n",
       "      <td>Áurea</td>\n",
       "      <td>4301552</td>\n",
       "      <td>-27.6936</td>\n",
       "      <td>-52.0505</td>\n",
       "      <td>5.8</td>\n",
       "    </tr>\n",
       "    <tr>\n",
       "      <th>268</th>\n",
       "      <td>Nicolau Vergueiro</td>\n",
       "      <td>4312674</td>\n",
       "      <td>-28.5298</td>\n",
       "      <td>-52.4676</td>\n",
       "      <td>7.0</td>\n",
       "    </tr>\n",
       "    <tr>\n",
       "      <th>128</th>\n",
       "      <td>Derrubadas</td>\n",
       "      <td>4306320</td>\n",
       "      <td>-27.2642</td>\n",
       "      <td>-53.8645</td>\n",
       "      <td>7.4</td>\n",
       "    </tr>\n",
       "    <tr>\n",
       "      <th>119</th>\n",
       "      <td>Cotiporã</td>\n",
       "      <td>4305959</td>\n",
       "      <td>-28.9891</td>\n",
       "      <td>-51.6971</td>\n",
       "      <td>7.5</td>\n",
       "    </tr>\n",
       "    <tr>\n",
       "      <th>68</th>\n",
       "      <td>Campestre da Serra</td>\n",
       "      <td>4303673</td>\n",
       "      <td>-28.7926</td>\n",
       "      <td>-51.0941</td>\n",
       "      <td>7.6</td>\n",
       "    </tr>\n",
       "    <tr>\n",
       "      <th>476</th>\n",
       "      <td>Vanini</td>\n",
       "      <td>4322558</td>\n",
       "      <td>-28.4758</td>\n",
       "      <td>-51.8447</td>\n",
       "      <td>7.8</td>\n",
       "    </tr>\n",
       "    <tr>\n",
       "      <th>236</th>\n",
       "      <td>Linha Nova</td>\n",
       "      <td>4311643</td>\n",
       "      <td>-29.4679</td>\n",
       "      <td>-51.2003</td>\n",
       "      <td>8.0</td>\n",
       "    </tr>\n",
       "    <tr>\n",
       "      <th>392</th>\n",
       "      <td>São José do Inhacorá</td>\n",
       "      <td>4318499</td>\n",
       "      <td>-27.7251</td>\n",
       "      <td>-54.1275</td>\n",
       "      <td>8.0</td>\n",
       "    </tr>\n",
       "  </tbody>\n",
       "</table>\n",
       "</div>"
      ],
      "text/plain": [
       "                  Município     ibge  latitude  longitude  taxa_distorcao\n",
       "490   Vista Alegre do Prata  4323606  -28.8052   -51.7946             2.6\n",
       "375  Santo Antônio do Palma  4317558  -28.4956   -52.0267             4.3\n",
       "28                    Áurea  4301552  -27.6936   -52.0505             5.8\n",
       "268       Nicolau Vergueiro  4312674  -28.5298   -52.4676             7.0\n",
       "128              Derrubadas  4306320  -27.2642   -53.8645             7.4\n",
       "119                Cotiporã  4305959  -28.9891   -51.6971             7.5\n",
       "68       Campestre da Serra  4303673  -28.7926   -51.0941             7.6\n",
       "476                  Vanini  4322558  -28.4758   -51.8447             7.8\n",
       "236              Linha Nova  4311643  -29.4679   -51.2003             8.0\n",
       "392    São José do Inhacorá  4318499  -27.7251   -54.1275             8.0"
      ]
     },
     "execution_count": 14,
     "metadata": {},
     "output_type": "execute_result"
    }
   ],
   "source": [
    "df.nsmallest(10, 'taxa_distorcao')"
   ]
  },
  {
   "cell_type": "code",
   "execution_count": 15,
   "metadata": {},
   "outputs": [
    {
     "data": {
      "text/html": [
       "<div>\n",
       "<style scoped>\n",
       "    .dataframe tbody tr th:only-of-type {\n",
       "        vertical-align: middle;\n",
       "    }\n",
       "\n",
       "    .dataframe tbody tr th {\n",
       "        vertical-align: top;\n",
       "    }\n",
       "\n",
       "    .dataframe thead th {\n",
       "        text-align: right;\n",
       "    }\n",
       "</style>\n",
       "<table border=\"1\" class=\"dataframe\">\n",
       "  <thead>\n",
       "    <tr style=\"text-align: right;\">\n",
       "      <th></th>\n",
       "      <th>Município</th>\n",
       "      <th>ibge</th>\n",
       "      <th>latitude</th>\n",
       "      <th>longitude</th>\n",
       "      <th>taxa_distorcao</th>\n",
       "    </tr>\n",
       "  </thead>\n",
       "  <tbody>\n",
       "    <tr>\n",
       "      <th>307</th>\n",
       "      <td>Pedras Altas</td>\n",
       "      <td>4314175</td>\n",
       "      <td>-31.7217</td>\n",
       "      <td>-53.5838</td>\n",
       "      <td>56.0</td>\n",
       "    </tr>\n",
       "    <tr>\n",
       "      <th>316</th>\n",
       "      <td>Pinheiro Machado</td>\n",
       "      <td>4314506</td>\n",
       "      <td>-31.5794</td>\n",
       "      <td>-53.3798</td>\n",
       "      <td>53.9</td>\n",
       "    </tr>\n",
       "    <tr>\n",
       "      <th>17</th>\n",
       "      <td>Arambaré</td>\n",
       "      <td>4300851</td>\n",
       "      <td>-30.9093</td>\n",
       "      <td>-51.5046</td>\n",
       "      <td>52.8</td>\n",
       "    </tr>\n",
       "    <tr>\n",
       "      <th>140</th>\n",
       "      <td>Eldorado do Sul</td>\n",
       "      <td>4306767</td>\n",
       "      <td>-30.0847</td>\n",
       "      <td>-51.6187</td>\n",
       "      <td>51.9</td>\n",
       "    </tr>\n",
       "    <tr>\n",
       "      <th>35</th>\n",
       "      <td>Barra do Quaraí</td>\n",
       "      <td>4301875</td>\n",
       "      <td>-30.2029</td>\n",
       "      <td>-57.5497</td>\n",
       "      <td>51.5</td>\n",
       "    </tr>\n",
       "    <tr>\n",
       "      <th>393</th>\n",
       "      <td>São José do Norte</td>\n",
       "      <td>4318507</td>\n",
       "      <td>-32.0151</td>\n",
       "      <td>-52.0331</td>\n",
       "      <td>49.4</td>\n",
       "    </tr>\n",
       "    <tr>\n",
       "      <th>413</th>\n",
       "      <td>São Valério do Sul</td>\n",
       "      <td>4319737</td>\n",
       "      <td>-27.7906</td>\n",
       "      <td>-53.9368</td>\n",
       "      <td>49.2</td>\n",
       "    </tr>\n",
       "    <tr>\n",
       "      <th>193</th>\n",
       "      <td>Hulha Negra</td>\n",
       "      <td>4309654</td>\n",
       "      <td>-31.4067</td>\n",
       "      <td>-53.8667</td>\n",
       "      <td>49.0</td>\n",
       "    </tr>\n",
       "    <tr>\n",
       "      <th>106</th>\n",
       "      <td>Chuí</td>\n",
       "      <td>4305439</td>\n",
       "      <td>-33.6866</td>\n",
       "      <td>-53.4594</td>\n",
       "      <td>48.6</td>\n",
       "    </tr>\n",
       "    <tr>\n",
       "      <th>233</th>\n",
       "      <td>Lavras do Sul</td>\n",
       "      <td>4311502</td>\n",
       "      <td>-30.8071</td>\n",
       "      <td>-53.8931</td>\n",
       "      <td>47.7</td>\n",
       "    </tr>\n",
       "  </tbody>\n",
       "</table>\n",
       "</div>"
      ],
      "text/plain": [
       "              Município     ibge  latitude  longitude  taxa_distorcao\n",
       "307        Pedras Altas  4314175  -31.7217   -53.5838            56.0\n",
       "316    Pinheiro Machado  4314506  -31.5794   -53.3798            53.9\n",
       "17             Arambaré  4300851  -30.9093   -51.5046            52.8\n",
       "140     Eldorado do Sul  4306767  -30.0847   -51.6187            51.9\n",
       "35      Barra do Quaraí  4301875  -30.2029   -57.5497            51.5\n",
       "393   São José do Norte  4318507  -32.0151   -52.0331            49.4\n",
       "413  São Valério do Sul  4319737  -27.7906   -53.9368            49.2\n",
       "193         Hulha Negra  4309654  -31.4067   -53.8667            49.0\n",
       "106                Chuí  4305439  -33.6866   -53.4594            48.6\n",
       "233       Lavras do Sul  4311502  -30.8071   -53.8931            47.7"
      ]
     },
     "execution_count": 15,
     "metadata": {},
     "output_type": "execute_result"
    }
   ],
   "source": [
    "# as dez maoires taxas de distoção\n",
    "\n",
    "df.nlargest(10, 'taxa_distorcao')"
   ]
  },
  {
   "cell_type": "code",
   "execution_count": 16,
   "metadata": {},
   "outputs": [
    {
     "data": {
      "text/plain": [
       "<matplotlib.axes._subplots.AxesSubplot at 0x7f8b7a7fb7d0>"
      ]
     },
     "execution_count": 16,
     "metadata": {},
     "output_type": "execute_result"
    },
    {
     "data": {
      "image/png": "[encoded data removed]",
      "text/plain": [
       "<Figure size 1152x576 with 1 Axes>"
      ]
     },
     "metadata": {
      "needs_background": "light"
     },
     "output_type": "display_data"
    }
   ],
   "source": [
    "#Plotando o histograma da taxa de distorção \n",
    "df['taxa_distorcao'].plot.hist(bins=100, figsize=(16,8))"
   ]
  },
  {
   "cell_type": "code",
   "execution_count": 17,
   "metadata": {},
   "outputs": [
    {
     "data": {
      "text/plain": [
       "Município         17\n",
       "ibge              17\n",
       "latitude          17\n",
       "longitude         17\n",
       "taxa_distorcao    17\n",
       "dtype: int64"
      ]
     },
     "execution_count": 17,
     "metadata": {},
     "output_type": "execute_result"
    }
   ],
   "source": [
    "# Quantidade de municipios com taxa de distorção menor igual a 10\n",
    "\n",
    "df[df['taxa_distorcao']<= 10].count()"
   ]
  },
  {
   "cell_type": "code",
   "execution_count": 18,
   "metadata": {},
   "outputs": [
    {
     "data": {
      "text/plain": [
       "Município         17\n",
       "ibge              17\n",
       "latitude          17\n",
       "longitude         17\n",
       "taxa_distorcao    17\n",
       "dtype: int64"
      ]
     },
     "execution_count": 18,
     "metadata": {},
     "output_type": "execute_result"
    }
   ],
   "source": [
    "df[df['taxa_distorcao']>= 45].count()"
   ]
  },
  {
   "cell_type": "code",
   "execution_count": 19,
   "metadata": {},
   "outputs": [],
   "source": [
    "# Vamos aprender como folium funciona \n",
    "# Vamos selecionar uma area \n",
    "\n",
    "brasil = folium.Map(\n",
    "    location=[-13.6603615, -69.77], zoom_start=4\n",
    "    \n",
    ")"
   ]
  },
  {
   "cell_type": "code",
   "execution_count": 23,
   "metadata": {},
   "outputs": [
    {
     "data": {
      "text/html": [
       "<div style=\"width:100%;\"><div style=\"position:relative;width:100%;height:0;padding-bottom:60%;\"><span style=\"color:#565656\">Make this Notebook Trusted to load map: File -> Trust Notebook</span><iframe src=\"about:blank\" style=\"position:absolute;width:100%;height:100%;left:0;top:0;border:none !important;\" data-html=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 onload=\"this.contentDocument.open();this.contentDocument.write(atob(this.getAttribute('data-html')));this.contentDocument.close();\" allowfullscreen webkitallowfullscreen mozallowfullscreen></iframe></div></div>"
      ],
      "text/plain": [
       "<folium.folium.Map at 0x7f8b7a82c190>"
      ]
     },
     "execution_count": 23,
     "metadata": {},
     "output_type": "execute_result"
    }
   ],
   "source": [
    "brasil"
   ]
  },
  {
   "cell_type": "code",
   "execution_count": 34,
   "metadata": {},
   "outputs": [
    {
     "data": {
      "text/html": [
       "<div style=\"width:100%;\"><div style=\"position:relative;width:100%;height:0;padding-bottom:60%;\"><span style=\"color:#565656\">Make this Notebook Trusted to load map: File -> Trust Notebook</span><iframe src=\"about:blank\" style=\"position:absolute;width:100%;height:100%;left:0;top:0;border:none !important;\" data-html=PCFET0NUWVBFIGh0bWw+CjxoZWFkPiAgICAKICAgIDxtZXRhIGh0dHAtZXF1aXY9ImNvbnRlbnQtdHlwZSIgY29udGVudD0idGV4dC9odG1sOyBjaGFyc2V0PVVURi04IiAvPgogICAgCiAgICAgICAgPHNjcmlwdD4KICAgICAgICAgICAgTF9OT19UT1VDSCA9IGZhbHNlOwogICAgICAgICAgICBMX0RJU0FCTEVfM0QgPSBmYWxzZTsKICAgICAgICA8L3NjcmlwdD4KICAgIAogICAgPHNjcmlwdCBzcmM9Imh0dHBzOi8vY2RuLmpzZGVsaXZyLm5ldC9ucG0vbGVhZmxldEAxLjYuMC9kaXN0L2xlYWZsZXQuanMiPjwvc2NyaXB0PgogICAgPHNjcmlwdCBzcmM9Imh0dHBzOi8vY29kZS5qcXVlcnkuY29tL2pxdWVyeS0xLjEyLjQubWluLmpzIj48L3NjcmlwdD4KICAgIDxzY3JpcHQgc3JjPSJodHRwczovL21heGNkbi5ib290c3RyYXBjZG4uY29tL2Jvb3RzdHJhcC8zLjIuMC9qcy9ib290c3RyYXAubWluLmpzIj48L3NjcmlwdD4KICAgIDxzY3JpcHQgc3JjPSJodHRwczovL2NkbmpzLmNsb3VkZmxhcmUuY29tL2FqYXgvbGlicy9MZWFmbGV0LmF3ZXNvbWUtbWFya2Vycy8yLjAuMi9sZWFmbGV0LmF3ZXNvbWUtbWFya2Vycy5qcyI+PC9zY3JpcHQ+CiAgICA8bGluayByZWw9InN0eWxlc2hlZXQiIGhyZWY9Imh0dHBzOi8vY2RuLmpzZGVsaXZyLm5ldC9ucG0vbGVhZmxldEAxLjYuMC9kaXN0L2xlYWZsZXQuY3NzIi8+CiAgICA8bGluayByZWw9InN0eWxlc2hlZXQiIGhyZWY9Imh0dHBzOi8vbWF4Y2RuLmJvb3RzdHJhcGNkbi5jb20vYm9vdHN0cmFwLzMuMi4wL2Nzcy9ib290c3RyYXAubWluLmNzcyIvPgogICAgPGxpbmsgcmVsPSJzdHlsZXNoZWV0IiBocmVmPSJodHRwczovL21heGNkbi5ib290c3RyYXBjZG4uY29tL2Jvb3RzdHJhcC8zLjIuMC9jc3MvYm9vdHN0cmFwLXRoZW1lLm1pbi5jc3MiLz4KICAgIDxsaW5rIHJlbD0ic3R5bGVzaGVldCIgaHJlZj0iaHR0cHM6Ly9tYXhjZG4uYm9vdHN0cmFwY2RuLmNvbS9mb250LWF3ZXNvbWUvNC42LjMvY3NzL2ZvbnQtYXdlc29tZS5taW4uY3NzIi8+CiAgICA8bGluayByZWw9InN0eWxlc2hlZXQiIGhyZWY9Imh0dHBzOi8vY2RuanMuY2xvdWRmbGFyZS5jb20vYWpheC9saWJzL0xlYWZsZXQuYXdlc29tZS1tYXJrZXJzLzIuMC4yL2xlYWZsZXQuYXdlc29tZS1tYXJrZXJzLmNzcyIvPgogICAgPGxpbmsgcmVsPSJzdHlsZXNoZWV0IiBocmVmPSJodHRwczovL3Jhd2Nkbi5naXRoYWNrLmNvbS9weXRob24tdmlzdWFsaXphdGlvbi9mb2xpdW0vbWFzdGVyL2ZvbGl1bS90ZW1wbGF0ZXMvbGVhZmxldC5hd2Vzb21lLnJvdGF0ZS5jc3MiLz4KICAgIDxzdHlsZT5odG1sLCBib2R5IHt3aWR0aDogMTAwJTtoZWlnaHQ6IDEwMCU7bWFyZ2luOiAwO3BhZGRpbmc6IDA7fTwvc3R5bGU+CiAgICA8c3R5bGU+I21hcCB7cG9zaXRpb246YWJzb2x1dGU7dG9wOjA7Ym90dG9tOjA7cmlnaHQ6MDtsZWZ0OjA7fTwvc3R5bGU+CiAgICAKICAgICAgICAgICAgPG1ldGEgbmFtZT0idmlld3BvcnQiIGNvbnRlbnQ9IndpZHRoPWRldmljZS13aWR0aCwKICAgICAgICAgICAgICAgIGluaXRpYWwtc2NhbGU9MS4wLCBtYXhpbXVtLXNjYWxlPTEuMCwgdXNlci1zY2FsYWJsZT1ubyIgLz4KICAgICAgICAgICAgPHN0eWxlPgogICAgICAgICAgICAgICAgI21hcF8yZDg0NmVlZjlhZTI0ODgyOGQ0ZmUwNWIzZWQ3MGUxMiB7CiAgICAgICAgICAgICAgICAgICAgcG9zaXRpb246IHJlbGF0aXZlOwogICAgICAgICAgICAgICAgICAgIHdpZHRoOiAxMDAuMCU7CiAgICAgICAgICAgICAgICAgICAgaGVpZ2h0OiAxMDAuMCU7CiAgICAgICAgICAgICAgICAgICAgbGVmdDogMC4wJTsKICAgICAgICAgICAgICAgICAgICB0b3A6IDAuMCU7CiAgICAgICAgICAgICAgICB9CiAgICAgICAgICAgIDwvc3R5bGU+CiAgICAgICAgCjwvaGVhZD4KPGJvZHk+ICAgIAogICAgCiAgICAgICAgICAgIDxkaXYgY2xhc3M9ImZvbGl1bS1tYXAiIGlkPSJtYXBfMmQ4NDZlZWY5YWUyNDg4MjhkNGZlMDViM2VkNzBlMTIiID48L2Rpdj4KICAgICAgICAKPC9ib2R5Pgo8c2NyaXB0PiAgICAKICAgIAogICAgICAgICAgICB2YXIgbWFwXzJkODQ2ZWVmOWFlMjQ4ODI4ZDRmZTA1YjNlZDcwZTEyID0gTC5tYXAoCiAgICAgICAgICAgICAgICAibWFwXzJkODQ2ZWVmOWFlMjQ4ODI4ZDRmZTA1YjNlZDcwZTEyIiwKICAgICAgICAgICAgICAgIHsKICAgICAgICAgICAgICAgICAgICBjZW50ZXI6IFstMzAuMDM0NjMxNiwgLTUxLjIxNzY5ODZdLAogICAgICAgICAgICAgICAgICAgIGNyczogTC5DUlMuRVBTRzM4NTcsCiAgICAgICAgICAgICAgICAgICAgem9vbTogNiwKICAgICAgICAgICAgICAgICAgICB6b29tQ29udHJvbDogdHJ1ZSwKICAgICAgICAgICAgICAgICAgICBwcmVmZXJDYW52YXM6IGZhbHNlLAogICAgICAgICAgICAgICAgfQogICAgICAgICAgICApOwoKICAgICAgICAgICAgCgogICAgICAgIAogICAgCiAgICAgICAgICAgIHZhciB0aWxlX2xheWVyX2VkMTM1YjIzNjZkYjQ4MWJiZDAzMTBmNTU0MWE5YzhjID0gTC50aWxlTGF5ZXIoCiAgICAgICAgICAgICAgICAiaHR0cHM6Ly97c30udGlsZS5vcGVuc3RyZWV0bWFwLm9yZy97en0ve3h9L3t5fS5wbmciLAogICAgICAgICAgICAgICAgeyJhdHRyaWJ1dGlvbiI6ICJEYXRhIGJ5IFx1MDAyNmNvcHk7IFx1MDAzY2EgaHJlZj1cImh0dHA6Ly9vcGVuc3RyZWV0bWFwLm9yZ1wiXHUwMDNlT3BlblN0cmVldE1hcFx1MDAzYy9hXHUwMDNlLCB1bmRlciBcdTAwM2NhIGhyZWY9XCJodHRwOi8vd3d3Lm9wZW5zdHJlZXRtYXAub3JnL2NvcHlyaWdodFwiXHUwMDNlT0RiTFx1MDAzYy9hXHUwMDNlLiIsICJkZXRlY3RSZXRpbmEiOiBmYWxzZSwgIm1heE5hdGl2ZVpvb20iOiAxOCwgIm1heFpvb20iOiAxOCwgIm1pblpvb20iOiAwLCAibm9XcmFwIjogZmFsc2UsICJvcGFjaXR5IjogMSwgInN1YmRvbWFpbnMiOiAiYWJjIiwgInRtcyI6IGZhbHNlfQogICAgICAgICAgICApLmFkZFRvKG1hcF8yZDg0NmVlZjlhZTI0ODgyOGQ0ZmUwNWIzZWQ3MGUxMik7CiAgICAgICAgCjwvc2NyaXB0Pg== onload=\"this.contentDocument.open();this.contentDocument.write(atob(this.getAttribute('data-html')));this.contentDocument.close();\" allowfullscreen webkitallowfullscreen mozallowfullscreen></iframe></div></div>"
      ],
      "text/plain": [
       "<folium.folium.Map at 0x7f8b771373d0>"
      ]
     },
     "execution_count": 34,
     "metadata": {},
     "output_type": "execute_result"
    }
   ],
   "source": [
    "rs = folium.Map(\n",
    "    location=[-30.0346316, -51.2176986], \n",
    "    zoom_start=6\n",
    ")\n",
    "\n",
    "rs"
   ]
  },
  {
   "cell_type": "code",
   "execution_count": 28,
   "metadata": {},
   "outputs": [
    {
     "data": {
      "text/html": [
       "<div style=\"width:100%;\"><div style=\"position:relative;width:100%;height:0;padding-bottom:60%;\"><span style=\"color:#565656\">Make this Notebook Trusted to load map: File -> Trust Notebook</span><iframe src=\"about:blank\" style=\"position:absolute;width:100%;height:100%;left:0;top:0;border:none !important;\" data-html=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 onload=\"this.contentDocument.open();this.contentDocument.write(atob(this.getAttribute('data-html')));this.contentDocument.close();\" allowfullscreen webkitallowfullscreen mozallowfullscreen></iframe></div></div>"
      ],
      "text/plain": [
       "<folium.folium.Map at 0x7f8b7755ded0>"
      ]
     },
     "execution_count": 28,
     "metadata": {},
     "output_type": "execute_result"
    }
   ],
   "source": [
    "# Percorrendo o datframe com as melhores escola \n",
    "# E desenhar um marcador para cada informaçoes \n",
    "# Será utilizado for e um iterrows\n",
    "\n",
    "for indice, municipio in df[df['taxa_distorcao']<= 10].iterrows():\n",
    "    folium.Marker(\n",
    "        location=[municipio['latitude'],municipio['longitude']],\n",
    "        popup=municipio['Município'],\n",
    "        icon= folium.map.Icon(color='green')\n",
    "    ).add_to(rs)\n",
    "    \n",
    "rs"
   ]
  },
  {
   "cell_type": "code",
   "execution_count": 29,
   "metadata": {},
   "outputs": [
    {
     "data": {
      "text/html": [
       "<div style=\"width:100%;\"><div style=\"position:relative;width:100%;height:0;padding-bottom:60%;\"><span style=\"color:#565656\">Make this Notebook Trusted to load map: File -> Trust Notebook</span><iframe src=\"about:blank\" style=\"position:absolute;width:100%;height:100%;left:0;top:0;border:none !important;\" data-html=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 onload=\"this.contentDocument.open();this.contentDocument.write(atob(this.getAttribute('data-html')));this.contentDocument.close();\" allowfullscreen webkitallowfullscreen mozallowfullscreen></iframe></div></div>"
      ],
      "text/plain": [
       "<folium.folium.Map at 0x7f8b7755ded0>"
      ]
     },
     "execution_count": 29,
     "metadata": {},
     "output_type": "execute_result"
    }
   ],
   "source": [
    "# Percorrendo o datframe com as piores escola \n",
    "# E desenhar um marcador para cada informaçoes \n",
    "# Será utilizado for e um iterrows\n",
    "\n",
    "for indice, municipio in df[df['taxa_distorcao']  >= 45].iterrows():\n",
    "    folium.Marker(\n",
    "        location=[municipio['latitude'],municipio['longitude']],\n",
    "        popup=municipio['Município'],\n",
    "        icon= folium.map.Icon(color='red')\n",
    "    ).add_to(rs)\n",
    "    \n",
    "rs"
   ]
  },
  {
   "cell_type": "markdown",
   "metadata": {},
   "source": [
    "Qual a taxa de distorção de porto alegre"
   ]
  },
  {
   "cell_type": "code",
   "execution_count": 36,
   "metadata": {},
   "outputs": [
    {
     "name": "stdout",
     "output_type": "stream",
     "text": [
      "A taxa de distorção da capital do Rio Grande do sul foi de ?\n"
     ]
    },
    {
     "data": {
      "text/plain": [
       "325    32.3\n",
       "Name: taxa_distorcao, dtype: float64"
      ]
     },
     "execution_count": 36,
     "metadata": {},
     "output_type": "execute_result"
    }
   ],
   "source": [
    "print('A taxa de distorção da capital do Rio Grande do sul foi de ?')\n",
    "df[df['Município']  == 'Porto Alegre']['taxa_distorcao']"
   ]
  },
  {
   "cell_type": "code",
   "execution_count": null,
   "metadata": {},
   "outputs": [],
   "source": []
  }
 ],
 "metadata": {
  "kernelspec": {
   "display_name": "Python 3",
   "language": "python",
   "name": "python3"
  },
  "language_info": {
   "codemirror_mode": {
    "name": "ipython",
    "version": 3
   },
   "file_extension": ".py",
   "mimetype": "text/x-python",
   "name": "python",
   "nbconvert_exporter": "python",
   "pygments_lexer": "ipython3",
   "version": "3.7.6"
  }
 },
 "nbformat": 4,
 "nbformat_minor": 4
}
